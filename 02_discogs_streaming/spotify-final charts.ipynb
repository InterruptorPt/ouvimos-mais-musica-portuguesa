{
 "metadata": {
  "language_info": {
   "codemirror_mode": {
    "name": "ipython",
    "version": 3
   },
   "file_extension": ".py",
   "mimetype": "text/x-python",
   "name": "python",
   "nbconvert_exporter": "python",
   "pygments_lexer": "ipython3",
   "version": "3.8.5-final"
  },
  "orig_nbformat": 2,
  "kernelspec": {
   "name": "python3",
   "display_name": "Python 3",
   "language": "python"
  }
 },
 "nbformat": 4,
 "nbformat_minor": 2,
 "cells": [
  {
   "cell_type": "code",
   "execution_count": 18,
   "metadata": {},
   "outputs": [],
   "source": [
    "import pandas as pd\n",
    "import numpy as np"
   ]
  },
  {
   "cell_type": "code",
   "execution_count": 19,
   "metadata": {},
   "outputs": [
    {
     "output_type": "execute_result",
     "data": {
      "text/plain": [
       "       Unnamed: 0  Position                                 title  \\\n",
       "0               0       1.0                               Starboy   \n",
       "1               1       2.0                  Say You Won't Let Go   \n",
       "2               2       3.0                                Closer   \n",
       "3               3       4.0                      I Feel It Coming   \n",
       "4               4       5.0                       Let Me Love You   \n",
       "...           ...       ...                                   ...   \n",
       "42851       42851     196.0                      Rainha da Favela   \n",
       "42852       42852     197.0                                Sólido   \n",
       "42853       42853     198.0                             Tranquilo   \n",
       "42854       42854     199.0                     Reminds Me Of You   \n",
       "42855       42855     200.0  Tudo no Sigilo (Vytinho NG e Bianca)   \n",
       "\n",
       "                 artist   Streams region  start_date    end_date country  \n",
       "0            The Weeknd  167258.0     pt  2016-12-30  2017-01-06      CA  \n",
       "1          James Arthur  113379.0     pt  2016-12-30  2017-01-06      GB  \n",
       "2      The Chainsmokers  113157.0     pt  2016-12-30  2017-01-06      US  \n",
       "3            The Weeknd  111042.0     pt  2016-12-30  2017-01-06      CA  \n",
       "4              DJ Snake  109443.0     pt  2016-12-30  2017-01-06      FR  \n",
       "...                 ...       ...    ...         ...         ...     ...  \n",
       "42851          Ludmilla   39097.0     pt  2020-12-18  2020-12-25      BR  \n",
       "42852       Instinto 26   38983.0     pt  2020-12-18  2020-12-25      PT  \n",
       "42853            Aragão   38804.0     pt  2020-12-18  2020-12-25      PT  \n",
       "42854        Juice WRLD   38487.0     pt  2020-12-18  2020-12-25      US  \n",
       "42855        Vytinho NG   38229.0     pt  2020-12-18  2020-12-25      BR  \n",
       "\n",
       "[42856 rows x 9 columns]"
      ],
      "text/html": "<div>\n<style scoped>\n    .dataframe tbody tr th:only-of-type {\n        vertical-align: middle;\n    }\n\n    .dataframe tbody tr th {\n        vertical-align: top;\n    }\n\n    .dataframe thead th {\n        text-align: right;\n    }\n</style>\n<table border=\"1\" class=\"dataframe\">\n  <thead>\n    <tr style=\"text-align: right;\">\n      <th></th>\n      <th>Unnamed: 0</th>\n      <th>Position</th>\n      <th>title</th>\n      <th>artist</th>\n      <th>Streams</th>\n      <th>region</th>\n      <th>start_date</th>\n      <th>end_date</th>\n      <th>country</th>\n    </tr>\n  </thead>\n  <tbody>\n    <tr>\n      <th>0</th>\n      <td>0</td>\n      <td>1.0</td>\n      <td>Starboy</td>\n      <td>The Weeknd</td>\n      <td>167258.0</td>\n      <td>pt</td>\n      <td>2016-12-30</td>\n      <td>2017-01-06</td>\n      <td>CA</td>\n    </tr>\n    <tr>\n      <th>1</th>\n      <td>1</td>\n      <td>2.0</td>\n      <td>Say You Won't Let Go</td>\n      <td>James Arthur</td>\n      <td>113379.0</td>\n      <td>pt</td>\n      <td>2016-12-30</td>\n      <td>2017-01-06</td>\n      <td>GB</td>\n    </tr>\n    <tr>\n      <th>2</th>\n      <td>2</td>\n      <td>3.0</td>\n      <td>Closer</td>\n      <td>The Chainsmokers</td>\n      <td>113157.0</td>\n      <td>pt</td>\n      <td>2016-12-30</td>\n      <td>2017-01-06</td>\n      <td>US</td>\n    </tr>\n    <tr>\n      <th>3</th>\n      <td>3</td>\n      <td>4.0</td>\n      <td>I Feel It Coming</td>\n      <td>The Weeknd</td>\n      <td>111042.0</td>\n      <td>pt</td>\n      <td>2016-12-30</td>\n      <td>2017-01-06</td>\n      <td>CA</td>\n    </tr>\n    <tr>\n      <th>4</th>\n      <td>4</td>\n      <td>5.0</td>\n      <td>Let Me Love You</td>\n      <td>DJ Snake</td>\n      <td>109443.0</td>\n      <td>pt</td>\n      <td>2016-12-30</td>\n      <td>2017-01-06</td>\n      <td>FR</td>\n    </tr>\n    <tr>\n      <th>...</th>\n      <td>...</td>\n      <td>...</td>\n      <td>...</td>\n      <td>...</td>\n      <td>...</td>\n      <td>...</td>\n      <td>...</td>\n      <td>...</td>\n      <td>...</td>\n    </tr>\n    <tr>\n      <th>42851</th>\n      <td>42851</td>\n      <td>196.0</td>\n      <td>Rainha da Favela</td>\n      <td>Ludmilla</td>\n      <td>39097.0</td>\n      <td>pt</td>\n      <td>2020-12-18</td>\n      <td>2020-12-25</td>\n      <td>BR</td>\n    </tr>\n    <tr>\n      <th>42852</th>\n      <td>42852</td>\n      <td>197.0</td>\n      <td>Sólido</td>\n      <td>Instinto 26</td>\n      <td>38983.0</td>\n      <td>pt</td>\n      <td>2020-12-18</td>\n      <td>2020-12-25</td>\n      <td>PT</td>\n    </tr>\n    <tr>\n      <th>42853</th>\n      <td>42853</td>\n      <td>198.0</td>\n      <td>Tranquilo</td>\n      <td>Aragão</td>\n      <td>38804.0</td>\n      <td>pt</td>\n      <td>2020-12-18</td>\n      <td>2020-12-25</td>\n      <td>PT</td>\n    </tr>\n    <tr>\n      <th>42854</th>\n      <td>42854</td>\n      <td>199.0</td>\n      <td>Reminds Me Of You</td>\n      <td>Juice WRLD</td>\n      <td>38487.0</td>\n      <td>pt</td>\n      <td>2020-12-18</td>\n      <td>2020-12-25</td>\n      <td>US</td>\n    </tr>\n    <tr>\n      <th>42855</th>\n      <td>42855</td>\n      <td>200.0</td>\n      <td>Tudo no Sigilo (Vytinho NG e Bianca)</td>\n      <td>Vytinho NG</td>\n      <td>38229.0</td>\n      <td>pt</td>\n      <td>2020-12-18</td>\n      <td>2020-12-25</td>\n      <td>BR</td>\n    </tr>\n  </tbody>\n</table>\n<p>42856 rows × 9 columns</p>\n</div>"
     },
     "metadata": {},
     "execution_count": 19
    }
   ],
   "source": [
    "df = pd.read_csv(\"spotify_fixed_nation_clean.csv\")\n",
    "df"
   ]
  },
  {
   "cell_type": "code",
   "execution_count": 22,
   "metadata": {},
   "outputs": [
    {
     "output_type": "execute_result",
     "data": {
      "text/plain": [
       "                 Artista País    Audições  Frequência\n",
       "0              21 Savage   US   3163440.0          82\n",
       "1               24kGoldn   US   4347777.0          30\n",
       "2    5 Seconds of Summer   AU   6203782.0         117\n",
       "3                  6LACK   US    270935.0          11\n",
       "4                6ix9ine   US   5356523.0         108\n",
       "..                   ...  ...         ...         ...\n",
       "728         benny blanco   US   5963695.0         104\n",
       "729            blackbear   US   2304704.0          64\n",
       "730                gnash   US    443357.0          16\n",
       "731             mishlawi   PT  10141404.0         220\n",
       "732                 ÁTOA   PT    419419.0          14\n",
       "\n",
       "[733 rows x 4 columns]"
      ],
      "text/html": "<div>\n<style scoped>\n    .dataframe tbody tr th:only-of-type {\n        vertical-align: middle;\n    }\n\n    .dataframe tbody tr th {\n        vertical-align: top;\n    }\n\n    .dataframe thead th {\n        text-align: right;\n    }\n</style>\n<table border=\"1\" class=\"dataframe\">\n  <thead>\n    <tr style=\"text-align: right;\">\n      <th></th>\n      <th>Artista</th>\n      <th>País</th>\n      <th>Audições</th>\n      <th>Frequência</th>\n    </tr>\n  </thead>\n  <tbody>\n    <tr>\n      <th>0</th>\n      <td>21 Savage</td>\n      <td>US</td>\n      <td>3163440.0</td>\n      <td>82</td>\n    </tr>\n    <tr>\n      <th>1</th>\n      <td>24kGoldn</td>\n      <td>US</td>\n      <td>4347777.0</td>\n      <td>30</td>\n    </tr>\n    <tr>\n      <th>2</th>\n      <td>5 Seconds of Summer</td>\n      <td>AU</td>\n      <td>6203782.0</td>\n      <td>117</td>\n    </tr>\n    <tr>\n      <th>3</th>\n      <td>6LACK</td>\n      <td>US</td>\n      <td>270935.0</td>\n      <td>11</td>\n    </tr>\n    <tr>\n      <th>4</th>\n      <td>6ix9ine</td>\n      <td>US</td>\n      <td>5356523.0</td>\n      <td>108</td>\n    </tr>\n    <tr>\n      <th>...</th>\n      <td>...</td>\n      <td>...</td>\n      <td>...</td>\n      <td>...</td>\n    </tr>\n    <tr>\n      <th>728</th>\n      <td>benny blanco</td>\n      <td>US</td>\n      <td>5963695.0</td>\n      <td>104</td>\n    </tr>\n    <tr>\n      <th>729</th>\n      <td>blackbear</td>\n      <td>US</td>\n      <td>2304704.0</td>\n      <td>64</td>\n    </tr>\n    <tr>\n      <th>730</th>\n      <td>gnash</td>\n      <td>US</td>\n      <td>443357.0</td>\n      <td>16</td>\n    </tr>\n    <tr>\n      <th>731</th>\n      <td>mishlawi</td>\n      <td>PT</td>\n      <td>10141404.0</td>\n      <td>220</td>\n    </tr>\n    <tr>\n      <th>732</th>\n      <td>ÁTOA</td>\n      <td>PT</td>\n      <td>419419.0</td>\n      <td>14</td>\n    </tr>\n  </tbody>\n</table>\n<p>733 rows × 4 columns</p>\n</div>"
     },
     "metadata": {},
     "execution_count": 22
    }
   ],
   "source": [
    "#Streams and count by artist\n",
    "\n",
    "streams_by_artist = pd.pivot_table(df, values=\"Streams\",index=['artist', 'country'], aggfunc={\"Streams\":np.sum, \"artist\":\"count\"})\n",
    "streams_by_artist = streams_by_artist.rename(columns={\"artist\": \"Frequência\", \"Streams\": \"Audições\"})\n",
    "streams_by_artist = streams_by_artist.reset_index()\n",
    "streams_by_artist = streams_by_artist.rename(columns={\"artist\": \"Artista\", \"country\": \"País\"})\n",
    "#streams_by_artist.sort_values(by=[\"Streams\"],ascending=False)\n",
    "\n",
    "streams_by_artist.to_csv(\"top_streams.csv\")\n",
    "streams_by_artist"
   ]
  },
  {
   "cell_type": "code",
   "execution_count": 3,
   "metadata": {},
   "outputs": [],
   "source": [
    "\n"
   ]
  },
  {
   "cell_type": "code",
   "execution_count": 25,
   "metadata": {},
   "outputs": [
    {
     "output_type": "stream",
     "name": "stdout",
     "text": [
      "Artista       0.115962\nPaís          0.115962\nAudições      0.115962\nFrequência    0.115962\ndtype: float64\nArtista       0.884038\nPaís          0.884038\nAudições      0.884038\nFrequência    0.884038\ndtype: float64\nArtista       0.223738\nPaís          0.223738\nAudições      0.223738\nFrequência    0.223738\ndtype: float64\n"
     ]
    }
   ],
   "source": [
    "streams_by_artist.loc[streams_by_artist['País'] == 'AN', 'País'] = \"AO\"\n",
    "pt = streams_by_artist.loc[streams_by_artist['País'] == 'PT']\n",
    "non_pt = streams_by_artist.loc[streams_by_artist['País'] != 'PT']\n",
    "lusophone = streams_by_artist.loc[(streams_by_artist['País'] == 'PT') | (streams_by_artist['País'] == 'BR') | (streams_by_artist['País'] == 'AO') | (streams_by_artist['País'] == 'PT/AN') | (streams_by_artist['País'] == 'CV')]\n",
    "\n",
    "print(pt.count()/len(streams_by_artist))\n",
    "print(non_pt.count()/len(streams_by_artist))\n",
    "print(lusophone.count()/len(streams_by_artist))"
   ]
  },
  {
   "cell_type": "code",
   "execution_count": 5,
   "metadata": {},
   "outputs": [],
   "source": [
    "lusophone_countries = [\"PT\", \"BR\", \"AO\", \"CV\", \"PT/AN\"]\n",
    "\n",
    "def share_pt(x):\n",
    "        return len([i for i in x if i == 'PT'])/len(x)\n",
    "\n",
    "def share_lusophone(x):\n",
    "        return len([i for i in x if i in lusophone_countries])/len(x)\n",
    "\n",
    "def share_foreign(x):\n",
    "        return len([i for i in x if i != 'PT'])/len(x)"
   ]
  },
  {
   "cell_type": "code",
   "execution_count": 87,
   "metadata": {},
   "outputs": [],
   "source": [
    "#racios por numero de entradas\n",
    "\n",
    "df['year'] = pd.DatetimeIndex(df['start_date']).year\n",
    "df['month'] = pd.DatetimeIndex(df['start_date']).month\n",
    "\n",
    "ratios = df.groupby(['year', \"month\"]).agg({'country' : share_pt})\n",
    "ratios[\"Lusófona\"] = df.groupby(['year', \"month\"]).agg({'country' : share_lusophone})\n",
    "ratios[\"Estrangeira\"] = df.groupby(['year', \"month\"]).agg({'country' : share_foreign})\n",
    "ratios = ratios.reset_index()\n",
    "ratios = ratios.rename(columns={\"country\": \"Portuguesa\", \"month\": \"MONTH\", \"year\":\"YEAR\"})\n",
    "\n",
    "#cols = list(ratios.columns.values)\n",
    "\n",
    "#cleaning the table for chart\n",
    "\n",
    "ratios[\"Data\"] = pd.to_datetime(ratios.YEAR.astype(str) + '/' + ratios.MONTH.astype(str))\n",
    "ratios[\"Data\"] = pd.to_datetime(ratios[\"Data\"]).dt.date\n",
    "ratios = ratios[['Data','Portuguesa', 'Lusófona', 'Estrangeira']]\n",
    "ratios['Portuguesa'] = ratios['Portuguesa'] * 100\n",
    "ratios['Lusófona'] = ratios['Lusófona'] * 100\n",
    "ratios['Estrangeira'] = ratios['Estrangeira'] * 100\n",
    "\n",
    "#ratios = ratios.transpose()\n",
    "ratios = ratios.reset_index()\n",
    "\n",
    "#ratios.to_csv(\"ratios_pt_luso.csv\")"
   ]
  },
  {
   "cell_type": "code",
   "execution_count": 39,
   "metadata": {},
   "outputs": [
    {
     "output_type": "execute_result",
     "data": {
      "text/plain": [
       "artist\n",
       "Julinho Ksd        4697709.0\n",
       "Bispo              1678337.0\n",
       "Tones And I        1317106.0\n",
       "Travis Scott       1533787.0\n",
       "Nenny              1102893.0\n",
       "Wet Bed Gang       2242708.0\n",
       "MC Du Black         768183.0\n",
       "Selena Gomez        980999.0\n",
       "Plutónio           3983124.0\n",
       "Pk                  739413.0\n",
       "Post Malone        2097406.0\n",
       "Phoenix Rdc         991982.0\n",
       "Piruka             1261225.0\n",
       "Lil Tecca           973979.0\n",
       "Shawn Mendes        706834.0\n",
       "Deejay Telio       1350835.0\n",
       "TAY                 814349.0\n",
       "Sippinpurpp         495388.0\n",
       "Lewis Capaldi       717276.0\n",
       "Dua Lipa            555335.0\n",
       "Ed Sheeran         1175863.0\n",
       "Ali Gatie           526101.0\n",
       "Y2K                 492434.0\n",
       "Billie Eilish      1617347.0\n",
       "Maroon 5            557220.0\n",
       "MEDUZA              733600.0\n",
       "ProfJam            1121935.0\n",
       "Lil Nas X           592745.0\n",
       "Slow J             1841162.0\n",
       "Fernando Daniel     980584.0\n",
       "Name: Streams, dtype: float64"
      ]
     },
     "metadata": {},
     "execution_count": 39
    }
   ],
   "source": [
    "nov_2019 = df.loc[(df[\"year\"] ==2019) & (df[\"month\"] == 11)].groupby(['artist'], sort=False)[\"Streams\"].agg(np.sum)\n",
    "nov_2019.head(30)"
   ]
  },
  {
   "cell_type": "code",
   "execution_count": 86,
   "metadata": {},
   "outputs": [],
   "source": [
    "df['year'] = pd.DatetimeIndex(df['start_date']).year\n",
    "df['month'] = pd.DatetimeIndex(df['start_date']).month\n",
    "\n",
    "ratios_streams = df.loc[(df[\"country\"] ==\"PT\")].groupby(['year', \"month\"]).agg({'Streams' : np.sum})\n",
    "ratios_streams[\"Lusófona\"] = df.loc[(df['country'] == 'PT') | (df['country'] == 'BR') | (df['country'] == 'AO') | (df['country'] == 'PT/AN') | (df['country'] == 'CV')].groupby(['year', \"month\"]).agg({'Streams' : np.sum})\n",
    "ratios_streams[\"Estrangeira\"] = df.loc[(df[\"country\"] !=\"PT\")].groupby(['year', \"month\"]).agg({'Streams' : np.sum})\n",
    "\n",
    "ratios_streams = ratios_streams.reset_index()\n",
    "ratios_streams = ratios_streams.rename(columns={\"Streams\": \"Portuguesa\", \"month\": \"MONTH\", \"year\":\"YEAR\"})\n",
    "\n",
    "#cols = list(ratios_streams.columns.values)\n",
    "\n",
    "#cleaning the table for chart\n",
    "\n",
    "ratios_streams[\"Data\"] = pd.to_datetime(ratios_streams.YEAR.astype(str) + '/' + ratios_streams.MONTH.astype(str))\n",
    "ratios_streams[\"Data\"] = pd.to_datetime(ratios_streams[\"Data\"]).dt.date\n",
    "ratios_streams = ratios_streams[['Data','Portuguesa', 'Lusófona', 'Estrangeira']]\n",
    "\n",
    "ratios_streams = ratios_streams.reset_index()\n",
    "\n",
    "ratios_streams.to_csv(\"streams_by_category.csv\", date_format = \"%Y/%m\")\n",
    "\n",
    "ratios_streams_transposed = ratios_streams.transpose()\n",
    "#ratios_streams_transposed.to_csv(\"streams_by_category_transposed.csv\", date_format = \"%Y/%m\")"
   ]
  },
  {
   "cell_type": "code",
   "execution_count": 26,
   "metadata": {},
   "outputs": [
    {
     "output_type": "execute_result",
     "data": {
      "text/plain": [
       "                 Artista País    Audições  Frequência\n",
       "0              21 Savage   US   3163440.0          82\n",
       "1               24kGoldn   US   4347777.0          30\n",
       "2    5 Seconds of Summer   AU   6203782.0         117\n",
       "3                  6LACK   US    270935.0          11\n",
       "4                6ix9ine   US   5356523.0         108\n",
       "..                   ...  ...         ...         ...\n",
       "728         benny blanco   US   5963695.0         104\n",
       "729            blackbear   US   2304704.0          64\n",
       "730                gnash   US    443357.0          16\n",
       "731             mishlawi   PT  10141404.0         220\n",
       "732                 ÁTOA   PT    419419.0          14\n",
       "\n",
       "[733 rows x 4 columns]"
      ],
      "text/html": "<div>\n<style scoped>\n    .dataframe tbody tr th:only-of-type {\n        vertical-align: middle;\n    }\n\n    .dataframe tbody tr th {\n        vertical-align: top;\n    }\n\n    .dataframe thead th {\n        text-align: right;\n    }\n</style>\n<table border=\"1\" class=\"dataframe\">\n  <thead>\n    <tr style=\"text-align: right;\">\n      <th></th>\n      <th>Artista</th>\n      <th>País</th>\n      <th>Audições</th>\n      <th>Frequência</th>\n    </tr>\n  </thead>\n  <tbody>\n    <tr>\n      <th>0</th>\n      <td>21 Savage</td>\n      <td>US</td>\n      <td>3163440.0</td>\n      <td>82</td>\n    </tr>\n    <tr>\n      <th>1</th>\n      <td>24kGoldn</td>\n      <td>US</td>\n      <td>4347777.0</td>\n      <td>30</td>\n    </tr>\n    <tr>\n      <th>2</th>\n      <td>5 Seconds of Summer</td>\n      <td>AU</td>\n      <td>6203782.0</td>\n      <td>117</td>\n    </tr>\n    <tr>\n      <th>3</th>\n      <td>6LACK</td>\n      <td>US</td>\n      <td>270935.0</td>\n      <td>11</td>\n    </tr>\n    <tr>\n      <th>4</th>\n      <td>6ix9ine</td>\n      <td>US</td>\n      <td>5356523.0</td>\n      <td>108</td>\n    </tr>\n    <tr>\n      <th>...</th>\n      <td>...</td>\n      <td>...</td>\n      <td>...</td>\n      <td>...</td>\n    </tr>\n    <tr>\n      <th>728</th>\n      <td>benny blanco</td>\n      <td>US</td>\n      <td>5963695.0</td>\n      <td>104</td>\n    </tr>\n    <tr>\n      <th>729</th>\n      <td>blackbear</td>\n      <td>US</td>\n      <td>2304704.0</td>\n      <td>64</td>\n    </tr>\n    <tr>\n      <th>730</th>\n      <td>gnash</td>\n      <td>US</td>\n      <td>443357.0</td>\n      <td>16</td>\n    </tr>\n    <tr>\n      <th>731</th>\n      <td>mishlawi</td>\n      <td>PT</td>\n      <td>10141404.0</td>\n      <td>220</td>\n    </tr>\n    <tr>\n      <th>732</th>\n      <td>ÁTOA</td>\n      <td>PT</td>\n      <td>419419.0</td>\n      <td>14</td>\n    </tr>\n  </tbody>\n</table>\n<p>733 rows × 4 columns</p>\n</div>"
     },
     "metadata": {},
     "execution_count": 26
    }
   ],
   "source": [
    "streams_by_artist"
   ]
  }
 ]
}