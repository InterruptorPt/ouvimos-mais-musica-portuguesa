{
 "metadata": {
  "language_info": {
   "codemirror_mode": {
    "name": "ipython",
    "version": 3
   },
   "file_extension": ".py",
   "mimetype": "text/x-python",
   "name": "python",
   "nbconvert_exporter": "python",
   "pygments_lexer": "ipython3",
   "version": "3.8.5-final"
  },
  "orig_nbformat": 2,
  "kernelspec": {
   "name": "python3",
   "display_name": "Python 3",
   "language": "python"
  }
 },
 "nbformat": 4,
 "nbformat_minor": 2,
 "cells": [
  {
   "cell_type": "code",
   "execution_count": 60,
   "metadata": {},
   "outputs": [],
   "source": [
    "import pandas as pd\n",
    "import numpy as np\n",
    "from fycharts.SpotifyCharts import SpotifyCharts\n",
    "from dotenv import load_dotenv\n",
    "from tqdm.notebook import tqdm\n",
    "import musicbrainzngs"
   ]
  },
  {
   "cell_type": "code",
   "execution_count": 29,
   "metadata": {
    "tags": []
   },
   "outputs": [
    {
     "output_type": "execute_result",
     "data": {
      "text/plain": [
       "'api = SpotifyCharts()\\napi.top200Weekly(output_file = \"top_200_weekly-missing.csv\", start = \"2020-12-11\", end = \"2020-12-31\", region = [\"pt\"])'"
      ]
     },
     "metadata": {},
     "execution_count": 29
    }
   ],
   "source": [
    "'''api = SpotifyCharts()\n",
    "api.top200Weekly(output_file = \"top_200_weekly-missing.csv\", start = \"2020-12-11\", end = \"2020-12-31\", region = [\"pt\"])'''"
   ]
  },
  {
   "cell_type": "code",
   "execution_count": 71,
   "metadata": {},
   "outputs": [
    {
     "output_type": "execute_result",
     "data": {
      "text/plain": [
       "     Position                            Track Name            Artist  \\\n",
       "0         1.0                               Starboy        The Weeknd   \n",
       "1         2.0                  Say You Won't Let Go      James Arthur   \n",
       "2         3.0                                Closer  The Chainsmokers   \n",
       "3         4.0                      I Feel It Coming        The Weeknd   \n",
       "4         5.0                       Let Me Love You          DJ Snake   \n",
       "..        ...                                   ...               ...   \n",
       "395     196.0                      Rainha da Favela          Ludmilla   \n",
       "396     197.0                                Sólido       Instinto 26   \n",
       "397     198.0                             Tranquilo            Aragão   \n",
       "398     199.0                     Reminds Me Of You        Juice WRLD   \n",
       "399     200.0  Tudo no Sigilo (Vytinho NG e Bianca)        Vytinho NG   \n",
       "\n",
       "      Streams                    date region              spotify_id  \n",
       "0    167258.0  2016-12-30--2017-01-06     pt  5aAx2yezTd8zXrkmtKl66Z  \n",
       "1    113379.0  2016-12-30--2017-01-06     pt  5uCax9HTNlzGybIStD3vDh  \n",
       "2    113157.0  2016-12-30--2017-01-06     pt  7BKLCZ1jbUBVqRi2FVlTVw  \n",
       "3    111042.0  2016-12-30--2017-01-06     pt  5GXAXm5YOmYT0kL5jHvYBt  \n",
       "4    109443.0  2016-12-30--2017-01-06     pt  4pdPtRcBmOSQDlJ3Fk945m  \n",
       "..        ...                     ...    ...                     ...  \n",
       "395   39097.0  2020-12-18--2020-12-25     pt  3vu864xi5Xis9VfOsJpmXu  \n",
       "396   38983.0  2020-12-18--2020-12-25     pt  166Lpx4pr5vtIJYInQx4AJ  \n",
       "397   38804.0  2020-12-18--2020-12-25     pt  1fobXPCu47gikLMIoyQBLy  \n",
       "398   38487.0  2020-12-18--2020-12-25     pt  5YSHygGN9D0mID1NsVd5my  \n",
       "399   38229.0  2020-12-18--2020-12-25     pt  60wF0XnX7A0jVpDNA5v8vi  \n",
       "\n",
       "[41595 rows x 7 columns]"
      ],
      "text/html": "<div>\n<style scoped>\n    .dataframe tbody tr th:only-of-type {\n        vertical-align: middle;\n    }\n\n    .dataframe tbody tr th {\n        vertical-align: top;\n    }\n\n    .dataframe thead th {\n        text-align: right;\n    }\n</style>\n<table border=\"1\" class=\"dataframe\">\n  <thead>\n    <tr style=\"text-align: right;\">\n      <th></th>\n      <th>Position</th>\n      <th>Track Name</th>\n      <th>Artist</th>\n      <th>Streams</th>\n      <th>date</th>\n      <th>region</th>\n      <th>spotify_id</th>\n    </tr>\n  </thead>\n  <tbody>\n    <tr>\n      <th>0</th>\n      <td>1.0</td>\n      <td>Starboy</td>\n      <td>The Weeknd</td>\n      <td>167258.0</td>\n      <td>2016-12-30--2017-01-06</td>\n      <td>pt</td>\n      <td>5aAx2yezTd8zXrkmtKl66Z</td>\n    </tr>\n    <tr>\n      <th>1</th>\n      <td>2.0</td>\n      <td>Say You Won't Let Go</td>\n      <td>James Arthur</td>\n      <td>113379.0</td>\n      <td>2016-12-30--2017-01-06</td>\n      <td>pt</td>\n      <td>5uCax9HTNlzGybIStD3vDh</td>\n    </tr>\n    <tr>\n      <th>2</th>\n      <td>3.0</td>\n      <td>Closer</td>\n      <td>The Chainsmokers</td>\n      <td>113157.0</td>\n      <td>2016-12-30--2017-01-06</td>\n      <td>pt</td>\n      <td>7BKLCZ1jbUBVqRi2FVlTVw</td>\n    </tr>\n    <tr>\n      <th>3</th>\n      <td>4.0</td>\n      <td>I Feel It Coming</td>\n      <td>The Weeknd</td>\n      <td>111042.0</td>\n      <td>2016-12-30--2017-01-06</td>\n      <td>pt</td>\n      <td>5GXAXm5YOmYT0kL5jHvYBt</td>\n    </tr>\n    <tr>\n      <th>4</th>\n      <td>5.0</td>\n      <td>Let Me Love You</td>\n      <td>DJ Snake</td>\n      <td>109443.0</td>\n      <td>2016-12-30--2017-01-06</td>\n      <td>pt</td>\n      <td>4pdPtRcBmOSQDlJ3Fk945m</td>\n    </tr>\n    <tr>\n      <th>...</th>\n      <td>...</td>\n      <td>...</td>\n      <td>...</td>\n      <td>...</td>\n      <td>...</td>\n      <td>...</td>\n      <td>...</td>\n    </tr>\n    <tr>\n      <th>395</th>\n      <td>196.0</td>\n      <td>Rainha da Favela</td>\n      <td>Ludmilla</td>\n      <td>39097.0</td>\n      <td>2020-12-18--2020-12-25</td>\n      <td>pt</td>\n      <td>3vu864xi5Xis9VfOsJpmXu</td>\n    </tr>\n    <tr>\n      <th>396</th>\n      <td>197.0</td>\n      <td>Sólido</td>\n      <td>Instinto 26</td>\n      <td>38983.0</td>\n      <td>2020-12-18--2020-12-25</td>\n      <td>pt</td>\n      <td>166Lpx4pr5vtIJYInQx4AJ</td>\n    </tr>\n    <tr>\n      <th>397</th>\n      <td>198.0</td>\n      <td>Tranquilo</td>\n      <td>Aragão</td>\n      <td>38804.0</td>\n      <td>2020-12-18--2020-12-25</td>\n      <td>pt</td>\n      <td>1fobXPCu47gikLMIoyQBLy</td>\n    </tr>\n    <tr>\n      <th>398</th>\n      <td>199.0</td>\n      <td>Reminds Me Of You</td>\n      <td>Juice WRLD</td>\n      <td>38487.0</td>\n      <td>2020-12-18--2020-12-25</td>\n      <td>pt</td>\n      <td>5YSHygGN9D0mID1NsVd5my</td>\n    </tr>\n    <tr>\n      <th>399</th>\n      <td>200.0</td>\n      <td>Tudo no Sigilo (Vytinho NG e Bianca)</td>\n      <td>Vytinho NG</td>\n      <td>38229.0</td>\n      <td>2020-12-18--2020-12-25</td>\n      <td>pt</td>\n      <td>60wF0XnX7A0jVpDNA5v8vi</td>\n    </tr>\n  </tbody>\n</table>\n<p>41595 rows × 7 columns</p>\n</div>"
     },
     "metadata": {},
     "execution_count": 71
    }
   ],
   "source": [
    "charts = pd.read_csv(\"top_200_weekly.csv\")\n",
    "charts = charts.dropna()\n",
    "\n",
    "missing_charts = pd.read_csv(\"top_200_weekly-missing.csv\")\n",
    "\n",
    "charts = pd.concat([charts,missing_charts])\n",
    "charts"
   ]
  },
  {
   "cell_type": "code",
   "execution_count": 72,
   "metadata": {},
   "outputs": [],
   "source": [
    "#fixing dates\n",
    "charts[\"date\"] = charts[\"date\"].str.split(\"--\")\n",
    "charts[\"start_date\"], charts[\"end_date\"] = zip(*charts.pop('date'))\n",
    "\n",
    "charts[\"start_date\"] = pd.to_datetime(charts[\"start_date\"], errors='coerce')\n",
    "charts[\"end_date\"] = pd.to_datetime(charts[\"end_date\"], errors='coerce')\n",
    "\n",
    "charts = charts.rename(columns={'Track Name': 'title', 'Artist': 'artist'})"
   ]
  },
  {
   "cell_type": "code",
   "execution_count": 76,
   "metadata": {},
   "outputs": [
    {
     "output_type": "execute_result",
     "data": {
      "text/plain": [
       "Position             float64\n",
       "title                 object\n",
       "artist                object\n",
       "Streams              float64\n",
       "region                object\n",
       "spotify_id            object\n",
       "start_date    datetime64[ns]\n",
       "end_date      datetime64[ns]\n",
       "dtype: object"
      ]
     },
     "metadata": {},
     "execution_count": 76
    }
   ],
   "source": [
    "charts.dtypes"
   ]
  },
  {
   "cell_type": "code",
   "execution_count": 59,
   "metadata": {},
   "outputs": [],
   "source": [
    "streams_by_artist = pd.pivot_table(charts, values=\"Streams\",index=['Artist'], aggfunc=np.sum)\n",
    "streams_by_artist = streams_by_artist.reset_index()\n",
    "streams_by_artist.sort_values(by=[\"Streams\"],ascending=False)\n",
    "\n",
    "#streams_by_artist.to_csv(\"top_streams.csv\")"
   ]
  },
  {
   "cell_type": "code",
   "execution_count": 34,
   "metadata": {},
   "outputs": [
    {
     "output_type": "execute_result",
     "data": {
      "text/plain": [
       "Wet Bed Gang       980\n",
       "Post Malone        958\n",
       "Ed Sheeran         806\n",
       "Piruka             784\n",
       "XXXTENTACION       709\n",
       "                  ... \n",
       "Michael Jackson      1\n",
       "Céline Dion          1\n",
       "Cesar Sampson        1\n",
       "FTampa               1\n",
       "KREAM                1\n",
       "Name: Artist, Length: 751, dtype: int64"
      ]
     },
     "metadata": {},
     "execution_count": 34
    }
   ],
   "source": [
    "# lista de artistas\n",
    "unique_artists = list(charts[\"Artist\"].unique())\n",
    "charts[\"Artist\"].value_counts()"
   ]
  },
  {
   "cell_type": "code",
   "execution_count": 61,
   "metadata": {},
   "outputs": [],
   "source": [
    "load_dotenv()\n",
    "\n",
    "musicbrainzngs.auth(os.environ.get(\"MUSICBRAINZ_USER\"), os.environ.get(\"MUSICBRAINZ_USER\"))\n",
    "musicbrainzngs.set_useragent(\"chart\", 0.1, \"https://rute.radio\")"
   ]
  },
  {
   "cell_type": "code",
   "execution_count": 62,
   "metadata": {},
   "outputs": [
    {
     "output_type": "display_data",
     "data": {
      "text/plain": "HBox(children=(HTML(value=''), FloatProgress(value=0.0, max=751.0), HTML(value='')))",
      "application/vnd.jupyter.widget-view+json": {
       "version_major": 2,
       "version_minor": 0,
       "model_id": "1464a141affd4c43ba45225c616b7c07"
      }
     },
     "metadata": {}
    },
    {
     "output_type": "stream",
     "name": "stdout",
     "text": [
      "\nJá está\n"
     ]
    }
   ],
   "source": [
    "new_df = pd.DataFrame()\n",
    "\n",
    "for artist in tqdm(unique_artists):\n",
    "    artist_list = musicbrainzngs.search_artists(artist=artist)\n",
    "    artist_df = pd.DataFrame.from_records(artist_list)\n",
    "    new_df = pd.concat([new_df, artist_df])\n",
    "    \n",
    "print(\"Já está\")"
   ]
  },
  {
   "cell_type": "code",
   "execution_count": 63,
   "metadata": {},
   "outputs": [],
   "source": [
    "#retirar informação dos dicionários extraídos do musicbrainz\n",
    "\n",
    "\n",
    "def get_name(x):\n",
    "    if type(x) == dict:\n",
    "        return x.get(\"name\")\n",
    "    \n",
    "    return \"---\"\n",
    "\n",
    "def get_country(x):\n",
    "    if type(x) == dict:\n",
    "        return x.get(\"country\")\n",
    "    \n",
    "    return \"---\"\n",
    "            \n",
    "new_df[\"artist\"] = new_df[\"artist-list\"].apply(get_name)  \n",
    "new_df[\"country\"] = new_df[\"artist-list\"].apply(get_country)\n",
    "new_df = new_df.drop(['artist-list', \"artist-count\"], axis=1)\n",
    "new_df = new_df.reset_index()\n",
    "new_df = new_df.drop(\"index\", axis=1)"
   ]
  },
  {
   "cell_type": "code",
   "execution_count": 73,
   "metadata": {},
   "outputs": [
    {
     "output_type": "execute_result",
     "data": {
      "text/plain": [
       "index             0\n",
       "Position          0\n",
       "title             0\n",
       "artist            0\n",
       "Streams           0\n",
       "region            0\n",
       "spotify_id        0\n",
       "start_date        0\n",
       "end_date          0\n",
       "country       11356\n",
       "dtype: int64"
      ]
     },
     "metadata": {},
     "execution_count": 73
    }
   ],
   "source": [
    "newish = charts.merge(new_df, how=\"left\", on='artist')\n",
    "newish = newish.drop_duplicates()\n",
    "newish = newish.reset_index()\n",
    "\n",
    "newish.isna().sum()"
   ]
  },
  {
   "cell_type": "code",
   "execution_count": 78,
   "metadata": {},
   "outputs": [
    {
     "output_type": "execute_result",
     "data": {
      "text/plain": [
       "Drake               684\n",
       "ProfJam             509\n",
       "MC Kevinho          479\n",
       "Khalid              460\n",
       "Dillaz              400\n",
       "Anitta              396\n",
       "Deejay Telio        371\n",
       "James Arthur        278\n",
       "Bispo               271\n",
       "Richie Campbell     259\n",
       "Sam Smith           256\n",
       "mishlawi            220\n",
       "Papillon            196\n",
       "Queen               190\n",
       "DJ Snake            185\n",
       "D.A.M.A             140\n",
       "Future              135\n",
       "LON3R JOHNY         134\n",
       "Virgul              130\n",
       "Bárbara Tinoco      129\n",
       "Ludmilla            125\n",
       "Phoenix Rdc         125\n",
       "Giulia Be           122\n",
       "Logic               111\n",
       "Oasis               109\n",
       "MC Kevin o Chris    106\n",
       "DENNIS              106\n",
       "Sia                 104\n",
       "Supa Squad           88\n",
       "Dj Dadda             84\n",
       "Name: artist, dtype: int64"
      ]
     },
     "metadata": {},
     "execution_count": 78
    }
   ],
   "source": [
    "fix_nation = newish.loc[newish['country'].isnull()]\n",
    "fix_nation[\"artist\"].value_counts().head(30)"
   ]
  },
  {
   "cell_type": "code",
   "execution_count": 80,
   "metadata": {},
   "outputs": [],
   "source": [
    "newish.loc[newish['artist'] == 'Drake', 'country'] = 'US'\n",
    "newish.loc[newish['artist'] == 'ProfJam', 'country'] = 'PT'\n",
    "newish.loc[newish['artist'] == 'MC Kevinho', 'country'] = 'BR'\n",
    "newish.loc[newish['artist'] == 'Khalid', 'country'] = 'US'\n",
    "newish.loc[newish['artist'] == 'Dillaz', 'country'] = 'PT'\n",
    "newish.loc[newish['artist'] == 'Deejay Telio', 'country'] = 'PT'\n",
    "newish.loc[newish['artist'] == 'Anitta', 'country'] = 'BR'\n",
    "newish.loc[newish['artist'] == 'Bispo', 'country'] = 'PT'\n",
    "newish.loc[newish['artist'] == 'James Arthur', 'country'] = 'GB'\n",
    "newish.loc[newish['artist'] == 'Sam Smith', 'country'] = 'GB'\n",
    "newish.loc[newish['artist'] == 'Richie Campbell', 'country'] = 'PT'\n",
    "newish.loc[newish['artist'] == 'Papillon', 'country'] = 'PT'\n",
    "newish.loc[newish['artist'] == 'Queen', 'country'] = 'GB'\n",
    "newish.loc[newish['artist'] == 'DJ Snake', 'country'] = 'FR'\n",
    "newish.loc[newish['artist'] == 'D.A.M.A', 'country'] = 'PT'\n",
    "newish.loc[newish['artist'] == 'LON3R JOHNY', 'country'] = 'PT'\n",
    "newish.loc[newish['artist'] == 'Future', 'country'] = 'US'\n",
    "newish.loc[newish['artist'] == 'Virgul', 'country'] = 'PT'\n",
    "newish.loc[newish['artist'] == 'Bárbara Tinoco', 'country'] = 'PT'\n",
    "newish.loc[newish['artist'] == 'Phoenix Rdc', 'country'] = 'PT'\n",
    "newish.loc[newish['artist'] == 'Giulia Be', 'country'] = 'BR'\n",
    "newish.loc[newish['artist'] == 'Logic', 'country'] = 'US'\n",
    "newish.loc[newish['artist'] == 'Oasis', 'country'] = 'GB'\n",
    "newish.loc[newish['artist'] == 'DENNIS', 'country'] = 'BR'\n",
    "newish.loc[newish['artist'] == 'Sia', 'country'] = 'AU'\n",
    "newish.loc[newish['artist'] == 'Supa Squad', 'country'] = 'PT'\n",
    "newish.loc[newish['artist'] == 'Dj Dadda', 'country'] = 'PT'"
   ]
  },
  {
   "cell_type": "code",
   "execution_count": 81,
   "metadata": {},
   "outputs": [
    {
     "output_type": "execute_result",
     "data": {
      "text/plain": [
       "mishlawi              220\n",
       "Ludmilla              125\n",
       "MC Kevin o Chris      106\n",
       "Mabel                  83\n",
       "9 Miller               81\n",
       "Twenty One Pilots      78\n",
       "Apollo G               74\n",
       "KAROL G                73\n",
       "Regard                 73\n",
       "Don Toliver            73\n",
       "Tones And I            72\n",
       "Chris Brown            72\n",
       "Alan Walker            70\n",
       "Miley Cyrus            69\n",
       "Mc Livinho             68\n",
       "G-Eazy                 67\n",
       "Nio Garcia             66\n",
       "Rihanna                64\n",
       "MC JottaPê             64\n",
       "Axwell /\\ Ingrosso     63\n",
       "Pk                     62\n",
       "ANAVITÓRIA             62\n",
       "Aragão                 62\n",
       "Instinto 26            60\n",
       "John Mayer             60\n",
       "Rag'n'Bone Man         57\n",
       "Kanye West             57\n",
       "Chico da Tina          55\n",
       "Sofia Reyes            54\n",
       "MC Bruninho            51\n",
       "Name: artist, dtype: int64"
      ]
     },
     "metadata": {},
     "execution_count": 81
    }
   ],
   "source": [
    "fix_nation = newish.loc[newish['country'].isnull()]\n",
    "fix_nation[\"artist\"].value_counts().head(30)"
   ]
  },
  {
   "cell_type": "code",
   "execution_count": 85,
   "metadata": {},
   "outputs": [],
   "source": [
    "newish.loc[newish['artist'] == 'Twenty One Pilots', 'country'] = 'US'\n",
    "newish.loc[newish['artist'] == 'mishlawi', 'country'] = 'PT'\n",
    "newish.loc[newish['artist'] == 'Ludmilla', 'country'] = 'BR'\n",
    "newish.loc[newish['artist'] == 'Mabel', 'country'] = 'GB'\n",
    "newish.loc[newish['artist'] == '9 Miller', 'country'] = 'PT'\n",
    "newish.loc[newish['artist'] == 'Apollo G', 'country'] = 'PT'\n",
    "newish.loc[newish['artist'] == 'MC Kevin o Chris', 'country'] = 'BR'\n",
    "newish.loc[newish['artist'] == 'KAROL G', 'country'] = 'CO'\n",
    "newish.loc[newish['artist'] == 'Regard', 'country'] = 'KO'\n",
    "newish.loc[newish['artist'] == 'Don Toliver', 'country'] = 'US'\n",
    "newish.loc[newish['artist'] == 'Tones And I', 'country'] = 'AU'\n",
    "newish.loc[newish['artist'] == 'Chris Brown', 'country'] = 'US'\n",
    "newish.loc[newish['artist'] == 'Alan Walker', 'country'] = 'GB/NO'\n",
    "newish.loc[newish['artist'] == 'Miley Cyrus', 'country'] = 'US'\n",
    "newish.loc[newish['artist'] == 'Mc Livinho', 'country'] = 'BR'\n",
    "newish.loc[newish['artist'] == 'Nio Garcia', 'country'] = 'US'\n",
    "newish.loc[newish['artist'] == 'G-Eazy', 'country'] = 'US'\n",
    "newish.loc[newish['artist'] == 'Rihanna', 'country'] = 'BA'\n",
    "newish.loc[newish['artist'] == 'MC JottaPê', 'country'] = 'BR'\n",
    "newish.loc[newish['artist'] == 'Axwell /\\ Ingrosso', 'country'] = 'SE'\n",
    "newish.loc[newish['artist'] == 'Pk', 'country'] = 'BR'\n",
    "newish.loc[newish['artist'] == 'ANAVITÓRIA', 'country'] = 'BR'\n",
    "newish.loc[newish['artist'] == 'Aragão', 'country'] = 'PT'\n",
    "newish.loc[newish['artist'] == 'Instinto 26', 'country'] = 'PT'\n",
    "newish.loc[newish['artist'] == 'John Mayer', 'country'] = 'US'\n",
    "newish.loc[newish['artist'] == 'Kanye West', 'country'] = 'US'\n",
    "newish.loc[newish['artist'] == 'Chico da Tina', 'country'] = 'PT'\n",
    "newish.loc[newish['artist'] == 'Sofia Reyes', 'country'] = 'MX'\n",
    "newish.loc[newish['artist'] == 'MC Bruninho', 'country'] = 'BR'"
   ]
  },
  {
   "cell_type": "code",
   "execution_count": 86,
   "metadata": {},
   "outputs": [
    {
     "output_type": "execute_result",
     "data": {
      "text/plain": [
       "Rag'n'Bone Man         57\n",
       "Jimmy P                50\n",
       "Mc Don Juan            50\n",
       "Panic! At The Disco    49\n",
       "Valete                 49\n",
       "Machine Gun Kelly      47\n",
       "Lil Wayne              46\n",
       "Y2K                    46\n",
       "Dynho Alves            45\n",
       "Pineapple StormTv      45\n",
       "Ricky Martin           44\n",
       "Mustard                43\n",
       "FRANKIEONTHEGUITAR     43\n",
       "Tropkillaz             43\n",
       "Jvst Fly               42\n",
       "MC Fioti               41\n",
       "Sam The Kid            40\n",
       "PEDRO SAMPAIO          40\n",
       "Vytinho NG             39\n",
       "Kappa Jotta            36\n",
       "Dadá Boladão           36\n",
       "Surfaces               36\n",
       "Offset                 35\n",
       "StaySolidRocky         34\n",
       "Edgar Domingos         34\n",
       "Domingues              34\n",
       "MC Ingryd              33\n",
       "Tom Walker             33\n",
       "Mc Th                  32\n",
       "Pitbull                31\n",
       "Name: artist, dtype: int64"
      ]
     },
     "metadata": {},
     "execution_count": 86
    }
   ],
   "source": [
    "fix_nation = newish.loc[newish['country'].isnull()]\n",
    "fix_nation[\"artist\"].value_counts().head(30)"
   ]
  },
  {
   "cell_type": "code",
   "execution_count": 89,
   "metadata": {},
   "outputs": [],
   "source": [
    "newish.loc[newish['artist'] == 'Rag\\'n\\'Bone Man', 'country'] = 'GB'\n",
    "newish.loc[newish['artist'] == 'Jimmy P', 'country'] = 'PT'\n",
    "newish.loc[newish['artist'] == 'Mc Don Juan', 'country'] = 'BR'\n",
    "newish.loc[newish['artist'] == 'Panic! At The Disco', 'country'] = 'US'\n",
    "newish.loc[newish['artist'] == 'Valete', 'country'] = 'PT'\n",
    "newish.loc[newish['artist'] == 'Machine Gun Kelly', 'country'] = 'US'\n",
    "newish.loc[newish['artist'] == 'Lil Wayne', 'country'] = 'US'\n",
    "newish.loc[newish['artist'] == 'Y2K', 'country'] = 'US'\n",
    "newish.loc[newish['artist'] == 'Dynho Alves', 'country'] = 'BR'\n",
    "newish.loc[newish['artist'] == 'Pineapple StormTv', 'country'] = 'BR'\n",
    "newish.loc[newish['artist'] == 'Ricky Martin', 'country'] = 'US'\n",
    "newish.loc[newish['artist'] == 'Mustard', 'country'] = 'US'\n",
    "\n",
    "newish.loc[newish['artist'] == 'FRANKIEONTHEGUITAR', 'country'] = 'PT'\n",
    "newish.loc[newish['artist'] == 'Jvst Fly', 'country'] = 'PT'\n",
    "newish.loc[newish['artist'] == 'Tropkillaz', 'country'] = 'BR'\n",
    "\n",
    "newish.loc[newish['artist'] == 'MC Fioti', 'country'] = 'PT'\n",
    "newish.loc[newish['artist'] == 'Sam The Kid', 'country'] = 'PT'\n",
    "newish.loc[newish['artist'] == 'PEDRO SAMPAIO', 'country'] = 'BR'\n",
    "newish.loc[newish['artist'] == 'Dadá Boladão', 'country'] = 'BR'\n",
    "newish.loc[newish['artist'] == 'Vytinho NG', 'country'] = 'BR'\n",
    "\n",
    "newish.loc[newish['artist'] == 'Surfaces', 'country'] = 'US'\n",
    "newish.loc[newish['artist'] == 'Offset', 'country'] = 'US'\n",
    "newish.loc[newish['artist'] == 'StaySolidRocky', 'country'] = 'US'\n",
    "newish.loc[newish['artist'] == 'Edgar Domingos', 'country'] = 'PT/AN'\n",
    "newish.loc[newish['artist'] == 'Domingues', 'country'] = 'PT'\n",
    "\n",
    "newish.loc[newish['artist'] == 'MC Ingryd', 'country'] = 'BR'\n",
    "newish.loc[newish['artist'] == 'Tom Walker', 'country'] = 'GB'\n",
    "newish.loc[newish['artist'] == 'Mc Th', 'country'] = 'BR'\n",
    "newish.loc[newish['artist'] == 'Pitbull', 'country'] = 'US'"
   ]
  },
  {
   "cell_type": "code",
   "execution_count": 92,
   "metadata": {},
   "outputs": [
    {
     "output_type": "execute_result",
     "data": {
      "text/plain": [
       "Kappa Jotta                 36\n",
       "Gson                        31\n",
       "KALEO                       31\n",
       "Adele                       30\n",
       "A Boogie Wit da Hoodie      29\n",
       "Sebastian Yatra             29\n",
       "Lexa                        28\n",
       "Rony Fuego                  28\n",
       "Famous Dex                  27\n",
       "Felipe Original             27\n",
       "Silva                       26\n",
       "SYRO                        26\n",
       "Young T & Bugsey            26\n",
       "Mc Jacaré                  25\n",
       "Mizzy Miles                 24\n",
       "Domi                        23\n",
       "WUANT                       23\n",
       "Russ                        23\n",
       "Tyler, The Creator          22\n",
       "MC's Jhowzinho & Kadinho    21\n",
       "Name: artist, dtype: int64"
      ]
     },
     "metadata": {},
     "execution_count": 92
    }
   ],
   "source": [
    "fix_nation = newish.loc[newish['country'].isnull()]\n",
    "fix_nation[\"artist\"].value_counts().head(20)"
   ]
  },
  {
   "cell_type": "code",
   "execution_count": 93,
   "metadata": {},
   "outputs": [],
   "source": [
    "newish.loc[newish['artist'] == 'Kappa Jotta', 'country'] = 'PT'\n",
    "newish.loc[newish['artist'] == 'Gson', 'country'] = 'PT'\n",
    "newish.loc[newish['artist'] == 'Adele', 'country'] = 'GB'\n",
    "newish.loc[newish['artist'] == 'A Boogie Wit da Hoodie', 'country'] = 'US'\n",
    "newish.loc[newish['artist'] == 'Sebastian Yatra', 'country'] = 'CO'\n",
    "newish.loc[newish['artist'] == 'Lexa', 'country'] = 'BR'\n",
    "newish.loc[newish['artist'] == 'Rony Fuego', 'country'] = 'AN'\n",
    "newish.loc[newish['artist'] == 'Famous Dex', 'country'] = 'US'\n",
    "newish.loc[newish['artist'] == 'Felipe Original', 'country'] = 'BR'\n",
    "newish.loc[newish['artist'] == 'Silva', 'country'] = 'BR'\n",
    "newish.loc[newish['artist'] == 'SYRO', 'country'] = 'PT'\n",
    "\n",
    "newish.loc[newish['artist'] == 'Young T & Bugsey', 'country'] = 'GB'\n",
    "newish.loc[newish['artist'] == 'Mc Jacaré', 'country'] = 'BR'\n",
    "newish.loc[newish['artist'] == 'Mizzy Miles', 'country'] = 'PT'\n",
    "\n",
    "newish.loc[newish['artist'] == 'Domi', 'country'] = 'PT'\n",
    "newish.loc[newish['artist'] == 'WUANT', 'country'] = 'PT'\n",
    "newish.loc[newish['artist'] == 'Russ', 'country'] = 'US'\n",
    "newish.loc[newish['artist'] == 'Tyler, The Creator', 'country'] = 'US'\n",
    "newish.loc[newish['artist'] == 'MC\\'s Jhowzinho & Kadinho ', 'country'] = 'BR'"
   ]
  },
  {
   "cell_type": "code",
   "execution_count": null,
   "metadata": {},
   "outputs": [],
   "source": []
  },
  {
   "cell_type": "code",
   "execution_count": 96,
   "metadata": {},
   "outputs": [
    {
     "output_type": "execute_result",
     "data": {
      "text/plain": [
       "KALEO                       31\n",
       "Mike Perry                  21\n",
       "Joel Corry                  21\n",
       "MC's Jhowzinho & Kadinho    21\n",
       "Internet Money              20\n",
       "Joint One                   20\n",
       "Thiaguinho MT               20\n",
       "Soraia Ramos                19\n",
       "AJR                         19\n",
       "Mastiksoul                  18\n",
       "Rich The Kid                18\n",
       "Toy                         17\n",
       "FRENSHIP                    16\n",
       "Silk City                   16\n",
       "Vado Más Ki Ás              16\n",
       "ANDREZO                     16\n",
       "The Vamps                   15\n",
       "LP                          15\n",
       "DripReport                  15\n",
       "Miguel                      14\n",
       "Name: artist, dtype: int64"
      ]
     },
     "metadata": {},
     "execution_count": 96
    }
   ],
   "source": [
    "fix_nation = newish.loc[newish['country'].isnull()]\n",
    "fix_nation[\"artist\"].value_counts().head(20)"
   ]
  },
  {
   "cell_type": "code",
   "execution_count": 97,
   "metadata": {},
   "outputs": [],
   "source": [
    "newish.loc[newish['artist'] == 'KALEO', 'country'] = 'IC'\n",
    "newish.loc[newish['artist'] == 'Mike Perry', 'country'] = 'SE'\n",
    "newish.loc[newish['artist'] == 'Joel Corry', 'country'] = 'GB'\n",
    "newish.loc[newish['artist'] == 'Internet Money', 'country'] = 'US'\n",
    "newish.loc[newish['artist'] == 'Joint One', 'country'] = 'PT'\n",
    "\n",
    "newish.loc[newish['artist'] == 'Thiaguinho MT', 'country'] = 'BR'\n",
    "newish.loc[newish['artist'] == 'Soraia Ramos', 'country'] = 'AN'\n",
    "newish.loc[newish['artist'] == 'AJR', 'country'] = 'US'\n",
    "newish.loc[newish['artist'] == 'Mastiksoul', 'country'] = 'PT'\n",
    "newish.loc[newish['artist'] == 'Rich The Kid', 'country'] = 'US'\n",
    "newish.loc[newish['artist'] == 'Toy', 'country'] = 'PT'\n",
    "\n",
    "newish.loc[newish['artist'] == 'FRENSHIP', 'country'] = 'US'\n",
    "newish.loc[newish['artist'] == 'Silk City', 'country'] = 'GB/US'\n",
    "newish.loc[newish['artist'] == 'Vado Más Ki Ás', 'country'] = 'PT'\n",
    "\n",
    "newish.loc[newish['artist'] == 'ANDREZO', 'country'] = 'PT'\n",
    "newish.loc[newish['artist'] == 'The Vamps', 'country'] = 'GB'\n",
    "newish.loc[newish['artist'] == 'LP', 'country'] = 'US'\n",
    "newish.loc[newish['artist'] == 'DripReport', 'country'] = 'US'\n",
    "newish.loc[newish['artist'] == 'Miguel', 'country'] = 'US'\n",
    "newish.loc[newish['artist'] == 'MC\\'s Jhowzinho & Kadinho', 'country'] = 'BR'"
   ]
  },
  {
   "cell_type": "code",
   "execution_count": 98,
   "metadata": {},
   "outputs": [
    {
     "output_type": "execute_result",
     "data": {
      "text/plain": [
       "WC no Beat        14\n",
       "Leo Santana       14\n",
       "Brenda Lee        14\n",
       "NAV               14\n",
       "Ritt Momney       14\n",
       "GIMS              13\n",
       "Rui Orlando       13\n",
       "Olivia Holt       13\n",
       "Band Aid          13\n",
       "Ananda            13\n",
       "Sam Hunt          13\n",
       "Andy Williams     13\n",
       "T-Rex             13\n",
       "Jennifer Lopez    12\n",
       "Ir Sais           12\n",
       "Mia Rose          11\n",
       "Dj Juninho 22     11\n",
       "Irina Barros      10\n",
       "Yuri NR5          10\n",
       "Conan Osíris      10\n",
       "Name: artist, dtype: int64"
      ]
     },
     "metadata": {},
     "execution_count": 98
    }
   ],
   "source": [
    "fix_nation = newish.loc[newish['country'].isnull()]\n",
    "fix_nation[\"artist\"].value_counts().head(20)"
   ]
  },
  {
   "cell_type": "code",
   "execution_count": 99,
   "metadata": {},
   "outputs": [],
   "source": [
    "newish.loc[newish['artist'] == 'Conan Osíris', 'country'] = 'PT'\n",
    "newish.loc[newish['artist'] == 'Yuri NR5', 'country'] = 'PT'\n",
    "newish.loc[newish['artist'] == 'T-Rex', 'country'] = 'PT'\n",
    "newish.loc[newish['artist'] == 'Dj Juninho 22', 'country'] = 'BR'\n",
    "newish.loc[newish['artist'] == 'Joint One', 'country'] = 'PT'\n",
    "\n",
    "newish.loc[newish['artist'] == 'WC no Beat', 'country'] = 'BR'\n",
    "newish.loc[newish['artist'] == 'Jennifer Lopez', 'country'] = 'US'\n",
    "newish.loc[newish['artist'] == 'Leo Santana', 'country'] = 'BR'\n",
    "newish.loc[newish['artist'] == 'Brenda Lee', 'country'] = 'US'\n",
    "newish.loc[newish['artist'] == 'NAV', 'country'] = 'CA'\n",
    "newish.loc[newish['artist'] == 'Ritt Momney', 'country'] = 'US'\n",
    "\n",
    "newish.loc[newish['artist'] == 'Rui Orlando', 'country'] = 'AN'\n",
    "newish.loc[newish['artist'] == 'Olivia Holt', 'country'] = 'US'\n",
    "newish.loc[newish['artist'] == 'Sam Hunt', 'country'] = 'US'\n",
    "\n",
    "newish.loc[newish['artist'] == 'Andy Williams', 'country'] = 'US'\n",
    "newish.loc[newish['artist'] == 'Mia Rose', 'country'] = 'PT'\n",
    "newish.loc[newish['artist'] == 'Ananda', 'country'] = 'BR'"
   ]
  },
  {
   "cell_type": "code",
   "execution_count": 100,
   "metadata": {},
   "outputs": [
    {
     "output_type": "execute_result",
     "data": {
      "text/plain": [
       "Band Aid           13\n",
       "GIMS               13\n",
       "Ir Sais            12\n",
       "Irina Barros       10\n",
       "Vice               10\n",
       "Sage The Gemini    10\n",
       "Ashe               10\n",
       "WiNDOH             10\n",
       "Octavian            9\n",
       "Guns N' Roses       9\n",
       "Yung SpaceGhost     9\n",
       "Clairo              8\n",
       "Joji                8\n",
       "Junior Lord         8\n",
       "Sam Fischer         8\n",
       "K/DA                8\n",
       "HMB                 8\n",
       "S1mba               8\n",
       "MC Rogerinho        8\n",
       "Nea                 8\n",
       "Name: artist, dtype: int64"
      ]
     },
     "metadata": {},
     "execution_count": 100
    }
   ],
   "source": [
    "fix_nation = newish.loc[newish['country'].isnull()]\n",
    "fix_nation[\"artist\"].value_counts().head(20)"
   ]
  },
  {
   "cell_type": "code",
   "execution_count": 102,
   "metadata": {},
   "outputs": [],
   "source": [
    "fix_nation.to_csv(\"spotify_fixed_nation.csv\")"
   ]
  }
 ]
}