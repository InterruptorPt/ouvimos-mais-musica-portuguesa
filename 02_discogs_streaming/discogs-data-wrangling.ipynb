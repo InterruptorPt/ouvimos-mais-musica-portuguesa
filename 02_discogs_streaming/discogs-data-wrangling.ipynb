{
 "metadata": {
  "language_info": {
   "codemirror_mode": {
    "name": "ipython",
    "version": 3
   },
   "file_extension": ".py",
   "mimetype": "text/x-python",
   "name": "python",
   "nbconvert_exporter": "python",
   "pygments_lexer": "ipython3",
   "version": "3.8.5-final"
  },
  "orig_nbformat": 2,
  "kernelspec": {
   "name": "python3",
   "display_name": "Python 3",
   "language": "python"
  }
 },
 "nbformat": 4,
 "nbformat_minor": 2,
 "cells": [
  {
   "cell_type": "code",
   "execution_count": 1,
   "metadata": {},
   "outputs": [],
   "source": [
    "import pandas as pd\n",
    "import numpy as np\n",
    "import matplotlib.pyplot as plt\n",
    "from dotenv import load_dotenv\n",
    "from tqdm.notebook import tqdm"
   ]
  },
  {
   "cell_type": "code",
   "execution_count": 2,
   "metadata": {},
   "outputs": [
    {
     "output_type": "execute_result",
     "data": {
      "text/plain": [
       "release_id             int64\n",
       "artist                object\n",
       "genre                 object\n",
       "style                 object\n",
       "year          datetime64[ns]\n",
       "title                 object\n",
       "country               object\n",
       "label                 object\n",
       "type                  object\n",
       "format                object\n",
       "dtype: object"
      ]
     },
     "metadata": {},
     "execution_count": 2
    }
   ],
   "source": [
    "test_df = pd.read_csv(\"releases.csv\")\n",
    "test_df[\"year\"] = pd.to_datetime(test_df[\"year\"], errors='coerce')\n",
    "test_df.dtypes"
   ]
  },
  {
   "cell_type": "code",
   "execution_count": 3,
   "metadata": {},
   "outputs": [
    {
     "output_type": "execute_result",
     "data": {
      "text/plain": [
       "release_id        0\n",
       "artist            0\n",
       "genre             0\n",
       "style             0\n",
       "year          13162\n",
       "title             0\n",
       "country           0\n",
       "label             0\n",
       "type           1904\n",
       "format            0\n",
       "dtype: int64"
      ]
     },
     "metadata": {},
     "execution_count": 3
    }
   ],
   "source": [
    "test_df.isnull().sum()"
   ]
  },
  {
   "cell_type": "code",
   "execution_count": 5,
   "metadata": {},
   "outputs": [
    {
     "output_type": "execute_result",
     "data": {
      "text/plain": [
       "Vinyl                40938\n",
       "CD                   22983\n",
       "File                  8306\n",
       "Cassette              5950\n",
       "CDr                   1956\n",
       "DVD                    787\n",
       "Shellac                364\n",
       "Box Set                217\n",
       "All Media              148\n",
       "Lathe Cut               67\n",
       "VHS                     36\n",
       "8-Track Cartridge       36\n",
       "Flexi-disc              18\n",
       "DVDr                    17\n",
       "Acetate                 15\n",
       "Hybrid                   9\n",
       "Memory Stick             5\n",
       "Floppy Disk              2\n",
       "Minidisc                 2\n",
       "Reel-To-Reel             1\n",
       "DAT                      1\n",
       "HD DVD                   1\n",
       "SACD                     1\n",
       "Name: format, dtype: int64"
      ]
     },
     "metadata": {},
     "execution_count": 5
    }
   ],
   "source": [
    "test_df[\"format\"].value_counts()"
   ]
  },
  {
   "cell_type": "code",
   "execution_count": 109,
   "metadata": {},
   "outputs": [
    {
     "output_type": "execute_result",
     "data": {
      "text/plain": [
       "       release_id                           artist  \\\n",
       "2            1415               Homero Bettencourt   \n",
       "4            7304      Underground Sound Of Lisbon   \n",
       "5           12375                       Wla Garcia   \n",
       "12          25772                          Maya 13   \n",
       "15          27969                        Kraftwerk   \n",
       "...           ...                              ...   \n",
       "81854    16718250  Tom Petty And The Heartbreakers   \n",
       "81856    16722114                          Bruno M   \n",
       "81857    16722345                          Various   \n",
       "81858    16724628                   Carla Caramujo   \n",
       "81859    16726167                    Chico Buarque   \n",
       "\n",
       "                                          genre            style       year  \\\n",
       "2                                ['Electronic']        ['House'] 2000-01-01   \n",
       "4                                ['Electronic']        ['House'] 1993-01-01   \n",
       "5                                ['Electronic']       ['Techno'] 2001-01-01   \n",
       "12                               ['Electronic']       ['Tribal'] 2001-01-01   \n",
       "15                               ['Electronic']      ['Electro'] 1983-01-01   \n",
       "...                                         ...              ...        ...   \n",
       "81854                                  ['Rock']  ['Rock & Roll'] 1982-01-01   \n",
       "81856  ['Electronic', 'Hip Hop', 'Funk / Soul']      ['Beatbox'] 2008-01-01   \n",
       "81857                               ['Hip Hop']      ['Gangsta'] 2014-01-01   \n",
       "81858                             ['Classical']        ['Opera'] 2020-01-01   \n",
       "81859   ['Jazz', 'Latin', 'Blues', 'Classical']               [] 2012-01-01   \n",
       "\n",
       "                                  title   country               label  \\\n",
       "2                           Ho Be Dance  Portugal        Kaos Records   \n",
       "4                           Chapter One  Portugal        Kaos Records   \n",
       "5                            Payback EP  Portugal  In_Tension Records   \n",
       "12                             Luscious  Portugal       Fullspectdrum   \n",
       "15                       Tour De France  Portugal                 EMI   \n",
       "...                                 ...       ...                 ...   \n",
       "81854              You're Gonna Get It!  Portugal         ABC Records   \n",
       "81856                      Batida Unika  Portugal       Tropa100farda   \n",
       "81857                  Conexão Das Ruas  Portugal     Big Som Records   \n",
       "81858  João Guilherme Ripper | Domitila  Portugal        Not On Label   \n",
       "81859   Manuel Sobrinho Simões Playlist  Portugal   Sons Da Lusofonia   \n",
       "\n",
       "                                                    type    format  real_year  \n",
       "2                                                    12\"     Vinyl     2000.0  \n",
       "4                                                    12\"     Vinyl     1993.0  \n",
       "5                                                    12\"     Vinyl     2001.0  \n",
       "12                                                   12\"     Vinyl     2001.0  \n",
       "15                                                    7\"     Vinyl     1983.0  \n",
       "...                                                  ...       ...        ...  \n",
       "81854                                              Album  Cassette     1982.0  \n",
       "81856  Eco Live Mix Presents Mix # 125 I 2017 # 17\\nB...        CD     2008.0  \n",
       "81857                                                NaN        CD     2014.0  \n",
       "81858                                               FLAC      File     2020.0  \n",
       "81859                                                 LP     Vinyl     2012.0  \n",
       "\n",
       "[68698 rows x 11 columns]"
      ],
      "text/html": "<div>\n<style scoped>\n    .dataframe tbody tr th:only-of-type {\n        vertical-align: middle;\n    }\n\n    .dataframe tbody tr th {\n        vertical-align: top;\n    }\n\n    .dataframe thead th {\n        text-align: right;\n    }\n</style>\n<table border=\"1\" class=\"dataframe\">\n  <thead>\n    <tr style=\"text-align: right;\">\n      <th></th>\n      <th>release_id</th>\n      <th>artist</th>\n      <th>genre</th>\n      <th>style</th>\n      <th>year</th>\n      <th>title</th>\n      <th>country</th>\n      <th>label</th>\n      <th>type</th>\n      <th>format</th>\n      <th>real_year</th>\n    </tr>\n  </thead>\n  <tbody>\n    <tr>\n      <th>2</th>\n      <td>1415</td>\n      <td>Homero Bettencourt</td>\n      <td>['Electronic']</td>\n      <td>['House']</td>\n      <td>2000-01-01</td>\n      <td>Ho Be Dance</td>\n      <td>Portugal</td>\n      <td>Kaos Records</td>\n      <td>12\"</td>\n      <td>Vinyl</td>\n      <td>2000.0</td>\n    </tr>\n    <tr>\n      <th>4</th>\n      <td>7304</td>\n      <td>Underground Sound Of Lisbon</td>\n      <td>['Electronic']</td>\n      <td>['House']</td>\n      <td>1993-01-01</td>\n      <td>Chapter One</td>\n      <td>Portugal</td>\n      <td>Kaos Records</td>\n      <td>12\"</td>\n      <td>Vinyl</td>\n      <td>1993.0</td>\n    </tr>\n    <tr>\n      <th>5</th>\n      <td>12375</td>\n      <td>Wla Garcia</td>\n      <td>['Electronic']</td>\n      <td>['Techno']</td>\n      <td>2001-01-01</td>\n      <td>Payback EP</td>\n      <td>Portugal</td>\n      <td>In_Tension Records</td>\n      <td>12\"</td>\n      <td>Vinyl</td>\n      <td>2001.0</td>\n    </tr>\n    <tr>\n      <th>12</th>\n      <td>25772</td>\n      <td>Maya 13</td>\n      <td>['Electronic']</td>\n      <td>['Tribal']</td>\n      <td>2001-01-01</td>\n      <td>Luscious</td>\n      <td>Portugal</td>\n      <td>Fullspectdrum</td>\n      <td>12\"</td>\n      <td>Vinyl</td>\n      <td>2001.0</td>\n    </tr>\n    <tr>\n      <th>15</th>\n      <td>27969</td>\n      <td>Kraftwerk</td>\n      <td>['Electronic']</td>\n      <td>['Electro']</td>\n      <td>1983-01-01</td>\n      <td>Tour De France</td>\n      <td>Portugal</td>\n      <td>EMI</td>\n      <td>7\"</td>\n      <td>Vinyl</td>\n      <td>1983.0</td>\n    </tr>\n    <tr>\n      <th>...</th>\n      <td>...</td>\n      <td>...</td>\n      <td>...</td>\n      <td>...</td>\n      <td>...</td>\n      <td>...</td>\n      <td>...</td>\n      <td>...</td>\n      <td>...</td>\n      <td>...</td>\n      <td>...</td>\n    </tr>\n    <tr>\n      <th>81854</th>\n      <td>16718250</td>\n      <td>Tom Petty And The Heartbreakers</td>\n      <td>['Rock']</td>\n      <td>['Rock &amp; Roll']</td>\n      <td>1982-01-01</td>\n      <td>You're Gonna Get It!</td>\n      <td>Portugal</td>\n      <td>ABC Records</td>\n      <td>Album</td>\n      <td>Cassette</td>\n      <td>1982.0</td>\n    </tr>\n    <tr>\n      <th>81856</th>\n      <td>16722114</td>\n      <td>Bruno M</td>\n      <td>['Electronic', 'Hip Hop', 'Funk / Soul']</td>\n      <td>['Beatbox']</td>\n      <td>2008-01-01</td>\n      <td>Batida Unika</td>\n      <td>Portugal</td>\n      <td>Tropa100farda</td>\n      <td>Eco Live Mix Presents Mix # 125 I 2017 # 17\\nB...</td>\n      <td>CD</td>\n      <td>2008.0</td>\n    </tr>\n    <tr>\n      <th>81857</th>\n      <td>16722345</td>\n      <td>Various</td>\n      <td>['Hip Hop']</td>\n      <td>['Gangsta']</td>\n      <td>2014-01-01</td>\n      <td>Conexão Das Ruas</td>\n      <td>Portugal</td>\n      <td>Big Som Records</td>\n      <td>NaN</td>\n      <td>CD</td>\n      <td>2014.0</td>\n    </tr>\n    <tr>\n      <th>81858</th>\n      <td>16724628</td>\n      <td>Carla Caramujo</td>\n      <td>['Classical']</td>\n      <td>['Opera']</td>\n      <td>2020-01-01</td>\n      <td>João Guilherme Ripper | Domitila</td>\n      <td>Portugal</td>\n      <td>Not On Label</td>\n      <td>FLAC</td>\n      <td>File</td>\n      <td>2020.0</td>\n    </tr>\n    <tr>\n      <th>81859</th>\n      <td>16726167</td>\n      <td>Chico Buarque</td>\n      <td>['Jazz', 'Latin', 'Blues', 'Classical']</td>\n      <td>[]</td>\n      <td>2012-01-01</td>\n      <td>Manuel Sobrinho Simões Playlist</td>\n      <td>Portugal</td>\n      <td>Sons Da Lusofonia</td>\n      <td>LP</td>\n      <td>Vinyl</td>\n      <td>2012.0</td>\n    </tr>\n  </tbody>\n</table>\n<p>68698 rows × 11 columns</p>\n</div>"
     },
     "metadata": {},
     "execution_count": 109
    }
   ],
   "source": [
    "\n",
    "formats_by_year"
   ]
  },
  {
   "cell_type": "code",
   "execution_count": 60,
   "metadata": {},
   "outputs": [
    {
     "output_type": "execute_result",
     "data": {
      "text/plain": [
       "format     8-Track Cartridge  Acetate  All Media  Box Set   CD  CDr  Cassette  \\\n",
       "real_year                                                                       \n",
       "1910.0                     0        0          0        0    0    0         0   \n",
       "1916.0                     0        0          0        0    0    0         0   \n",
       "1920.0                     0        0          0        0    0    0         0   \n",
       "1923.0                     0        0          0        0    0    0         0   \n",
       "1926.0                     0        0          0        0    0    0         0   \n",
       "...                      ...      ...        ...      ...  ...  ...       ...   \n",
       "2016.0                     0        0         22        0  658   74       159   \n",
       "2017.0                     0        0         10        3  689   55       223   \n",
       "2018.0                     0        0          7        3  550   68       213   \n",
       "2019.0                     0        0         16        4  517   36       148   \n",
       "2020.0                     0        0          7        5  320   28       138   \n",
       "\n",
       "format     DAT  DVD  DVDr  ...  HD DVD  Hybrid  Lathe Cut  Memory Stick  \\\n",
       "real_year                  ...                                            \n",
       "1910.0       0    0     0  ...       0       0          0             0   \n",
       "1916.0       0    0     0  ...       0       0          0             0   \n",
       "1920.0       0    0     0  ...       0       0          0             0   \n",
       "1923.0       0    0     0  ...       0       0          0             0   \n",
       "1926.0       0    0     0  ...       0       0          0             0   \n",
       "...        ...  ...   ...  ...     ...     ...        ...           ...   \n",
       "2016.0       1   19     0  ...       0       2         14             1   \n",
       "2017.0       0   17     0  ...       0       1         11             1   \n",
       "2018.0       0   12     0  ...       0       0          2             0   \n",
       "2019.0       0    9     0  ...       0       0          7             0   \n",
       "2020.0       0    2     0  ...       0       0          5             0   \n",
       "\n",
       "format     Minidisc  Reel-To-Reel  SACD  Shellac  VHS  Vinyl  \n",
       "real_year                                                     \n",
       "1910.0            0             0     0        2    0      0  \n",
       "1916.0            0             0     0        1    0      0  \n",
       "1920.0            0             0     0        1    0      0  \n",
       "1923.0            0             0     0        1    0      0  \n",
       "1926.0            0             0     0        1    0      0  \n",
       "...             ...           ...   ...      ...  ...    ...  \n",
       "2016.0            0             0     0        0    1    205  \n",
       "2017.0            0             0     0        0    0    227  \n",
       "2018.0            0             0     0        0    0    315  \n",
       "2019.0            1             0     0        0    1    360  \n",
       "2020.0            0             0     0        0    0    274  \n",
       "\n",
       "[90 rows x 23 columns]"
      ],
      "text/html": "<div>\n<style scoped>\n    .dataframe tbody tr th:only-of-type {\n        vertical-align: middle;\n    }\n\n    .dataframe tbody tr th {\n        vertical-align: top;\n    }\n\n    .dataframe thead th {\n        text-align: right;\n    }\n</style>\n<table border=\"1\" class=\"dataframe\">\n  <thead>\n    <tr style=\"text-align: right;\">\n      <th>format</th>\n      <th>8-Track Cartridge</th>\n      <th>Acetate</th>\n      <th>All Media</th>\n      <th>Box Set</th>\n      <th>CD</th>\n      <th>CDr</th>\n      <th>Cassette</th>\n      <th>DAT</th>\n      <th>DVD</th>\n      <th>DVDr</th>\n      <th>...</th>\n      <th>HD DVD</th>\n      <th>Hybrid</th>\n      <th>Lathe Cut</th>\n      <th>Memory Stick</th>\n      <th>Minidisc</th>\n      <th>Reel-To-Reel</th>\n      <th>SACD</th>\n      <th>Shellac</th>\n      <th>VHS</th>\n      <th>Vinyl</th>\n    </tr>\n    <tr>\n      <th>real_year</th>\n      <th></th>\n      <th></th>\n      <th></th>\n      <th></th>\n      <th></th>\n      <th></th>\n      <th></th>\n      <th></th>\n      <th></th>\n      <th></th>\n      <th></th>\n      <th></th>\n      <th></th>\n      <th></th>\n      <th></th>\n      <th></th>\n      <th></th>\n      <th></th>\n      <th></th>\n      <th></th>\n      <th></th>\n    </tr>\n  </thead>\n  <tbody>\n    <tr>\n      <th>1910.0</th>\n      <td>0</td>\n      <td>0</td>\n      <td>0</td>\n      <td>0</td>\n      <td>0</td>\n      <td>0</td>\n      <td>0</td>\n      <td>0</td>\n      <td>0</td>\n      <td>0</td>\n      <td>...</td>\n      <td>0</td>\n      <td>0</td>\n      <td>0</td>\n      <td>0</td>\n      <td>0</td>\n      <td>0</td>\n      <td>0</td>\n      <td>2</td>\n      <td>0</td>\n      <td>0</td>\n    </tr>\n    <tr>\n      <th>1916.0</th>\n      <td>0</td>\n      <td>0</td>\n      <td>0</td>\n      <td>0</td>\n      <td>0</td>\n      <td>0</td>\n      <td>0</td>\n      <td>0</td>\n      <td>0</td>\n      <td>0</td>\n      <td>...</td>\n      <td>0</td>\n      <td>0</td>\n      <td>0</td>\n      <td>0</td>\n      <td>0</td>\n      <td>0</td>\n      <td>0</td>\n      <td>1</td>\n      <td>0</td>\n      <td>0</td>\n    </tr>\n    <tr>\n      <th>1920.0</th>\n      <td>0</td>\n      <td>0</td>\n      <td>0</td>\n      <td>0</td>\n      <td>0</td>\n      <td>0</td>\n      <td>0</td>\n      <td>0</td>\n      <td>0</td>\n      <td>0</td>\n      <td>...</td>\n      <td>0</td>\n      <td>0</td>\n      <td>0</td>\n      <td>0</td>\n      <td>0</td>\n      <td>0</td>\n      <td>0</td>\n      <td>1</td>\n      <td>0</td>\n      <td>0</td>\n    </tr>\n    <tr>\n      <th>1923.0</th>\n      <td>0</td>\n      <td>0</td>\n      <td>0</td>\n      <td>0</td>\n      <td>0</td>\n      <td>0</td>\n      <td>0</td>\n      <td>0</td>\n      <td>0</td>\n      <td>0</td>\n      <td>...</td>\n      <td>0</td>\n      <td>0</td>\n      <td>0</td>\n      <td>0</td>\n      <td>0</td>\n      <td>0</td>\n      <td>0</td>\n      <td>1</td>\n      <td>0</td>\n      <td>0</td>\n    </tr>\n    <tr>\n      <th>1926.0</th>\n      <td>0</td>\n      <td>0</td>\n      <td>0</td>\n      <td>0</td>\n      <td>0</td>\n      <td>0</td>\n      <td>0</td>\n      <td>0</td>\n      <td>0</td>\n      <td>0</td>\n      <td>...</td>\n      <td>0</td>\n      <td>0</td>\n      <td>0</td>\n      <td>0</td>\n      <td>0</td>\n      <td>0</td>\n      <td>0</td>\n      <td>1</td>\n      <td>0</td>\n      <td>0</td>\n    </tr>\n    <tr>\n      <th>...</th>\n      <td>...</td>\n      <td>...</td>\n      <td>...</td>\n      <td>...</td>\n      <td>...</td>\n      <td>...</td>\n      <td>...</td>\n      <td>...</td>\n      <td>...</td>\n      <td>...</td>\n      <td>...</td>\n      <td>...</td>\n      <td>...</td>\n      <td>...</td>\n      <td>...</td>\n      <td>...</td>\n      <td>...</td>\n      <td>...</td>\n      <td>...</td>\n      <td>...</td>\n      <td>...</td>\n    </tr>\n    <tr>\n      <th>2016.0</th>\n      <td>0</td>\n      <td>0</td>\n      <td>22</td>\n      <td>0</td>\n      <td>658</td>\n      <td>74</td>\n      <td>159</td>\n      <td>1</td>\n      <td>19</td>\n      <td>0</td>\n      <td>...</td>\n      <td>0</td>\n      <td>2</td>\n      <td>14</td>\n      <td>1</td>\n      <td>0</td>\n      <td>0</td>\n      <td>0</td>\n      <td>0</td>\n      <td>1</td>\n      <td>205</td>\n    </tr>\n    <tr>\n      <th>2017.0</th>\n      <td>0</td>\n      <td>0</td>\n      <td>10</td>\n      <td>3</td>\n      <td>689</td>\n      <td>55</td>\n      <td>223</td>\n      <td>0</td>\n      <td>17</td>\n      <td>0</td>\n      <td>...</td>\n      <td>0</td>\n      <td>1</td>\n      <td>11</td>\n      <td>1</td>\n      <td>0</td>\n      <td>0</td>\n      <td>0</td>\n      <td>0</td>\n      <td>0</td>\n      <td>227</td>\n    </tr>\n    <tr>\n      <th>2018.0</th>\n      <td>0</td>\n      <td>0</td>\n      <td>7</td>\n      <td>3</td>\n      <td>550</td>\n      <td>68</td>\n      <td>213</td>\n      <td>0</td>\n      <td>12</td>\n      <td>0</td>\n      <td>...</td>\n      <td>0</td>\n      <td>0</td>\n      <td>2</td>\n      <td>0</td>\n      <td>0</td>\n      <td>0</td>\n      <td>0</td>\n      <td>0</td>\n      <td>0</td>\n      <td>315</td>\n    </tr>\n    <tr>\n      <th>2019.0</th>\n      <td>0</td>\n      <td>0</td>\n      <td>16</td>\n      <td>4</td>\n      <td>517</td>\n      <td>36</td>\n      <td>148</td>\n      <td>0</td>\n      <td>9</td>\n      <td>0</td>\n      <td>...</td>\n      <td>0</td>\n      <td>0</td>\n      <td>7</td>\n      <td>0</td>\n      <td>1</td>\n      <td>0</td>\n      <td>0</td>\n      <td>0</td>\n      <td>1</td>\n      <td>360</td>\n    </tr>\n    <tr>\n      <th>2020.0</th>\n      <td>0</td>\n      <td>0</td>\n      <td>7</td>\n      <td>5</td>\n      <td>320</td>\n      <td>28</td>\n      <td>138</td>\n      <td>0</td>\n      <td>2</td>\n      <td>0</td>\n      <td>...</td>\n      <td>0</td>\n      <td>0</td>\n      <td>5</td>\n      <td>0</td>\n      <td>0</td>\n      <td>0</td>\n      <td>0</td>\n      <td>0</td>\n      <td>0</td>\n      <td>274</td>\n    </tr>\n  </tbody>\n</table>\n<p>90 rows × 23 columns</p>\n</div>"
     },
     "metadata": {},
     "execution_count": 60
    }
   ],
   "source": [
    "#evolução dos formatos ao longo do tempo\n",
    "formats_by_year = test_df.dropna(subset=[\"real_year\"])\n",
    "formats_by_year = pd.crosstab(test_df[\"real_year\"],test_df[\"format\"])\n",
    "formats_by_year = formats_by_year.fillna(0)\n",
    "#formats_by_year.to_csv(\"formats_dateseries.csv\")\n",
    "formats_by_year"
   ]
  },
  {
   "cell_type": "code",
   "execution_count": 84,
   "metadata": {},
   "outputs": [
    {
     "output_type": "execute_result",
     "data": {
      "text/plain": [
       "                     artist                                                    \\\n",
       "format    8-Track Cartridge                           Acetate       All Media   \n",
       "type                  Album Amalia Compilation Stereo     10\" 8\" LP        7\"   \n",
       "real_year                                                                       \n",
       "1910.0                    0      0           0      0       0  0  0         0   \n",
       "1916.0                    0      0           0      0       0  0  0         0   \n",
       "1920.0                    0      0           0      0       0  0  0         0   \n",
       "1923.0                    0      0           0      0       0  0  0         0   \n",
       "1926.0                    0      0           0      0       0  0  0         0   \n",
       "...                     ...    ...         ...    ...     ... .. ..       ...   \n",
       "2016.0                    0      0           0      0       0  0  0         0   \n",
       "2017.0                    0      0           0      0       0  0  0         0   \n",
       "2018.0                    0      0           0      0       0  0  0         0   \n",
       "2019.0                    0      0           0      0       0  0  0         0   \n",
       "2020.0                    0      0           0      0       0  0  0         0   \n",
       "\n",
       "                             ...  year                                         \\\n",
       "format                       ... Vinyl                                          \n",
       "type      Album Compilation  ...    LP Limited Edition Maxi-Single Mini-Album   \n",
       "real_year                    ...                                                \n",
       "1910.0        0           0  ...     0               0           0          0   \n",
       "1916.0        0           0  ...     0               0           0          0   \n",
       "1920.0        0           0  ...     0               0           0          0   \n",
       "1923.0        0           0  ...     0               0           0          0   \n",
       "1926.0        0           0  ...     0               0           0          0   \n",
       "...         ...         ...  ...   ...             ...         ...        ...   \n",
       "2016.0        5           0  ...   122               0           0          0   \n",
       "2017.0        5           0  ...   133               0           0          0   \n",
       "2018.0        1           0  ...   163               0           0          0   \n",
       "2019.0        6           0  ...   213               0           0          0   \n",
       "2020.0        0           0  ...   181               0           0          0   \n",
       "\n",
       "                                                                           \n",
       "format                                                                     \n",
       "type      Picture Disc Promo Reissue Single Special Edition Test Pressing  \n",
       "real_year                                                                  \n",
       "1910.0               0     0       0      0               0             0  \n",
       "1916.0               0     0       0      0               0             0  \n",
       "1920.0               0     0       0      0               0             0  \n",
       "1923.0               0     0       0      0               0             0  \n",
       "1926.0               0     0       0      0               0             0  \n",
       "...                ...   ...     ...    ...             ...           ...  \n",
       "2016.0               0     0       0      0               0             0  \n",
       "2017.0               0     0       0      0               0             0  \n",
       "2018.0               0     0       0      0               0             0  \n",
       "2019.0               0     0       0      0               0             0  \n",
       "2020.0               0     0       0      0               0             0  \n",
       "\n",
       "[90 rows x 4416 columns]"
      ],
      "text/html": "<div>\n<style scoped>\n    .dataframe tbody tr th:only-of-type {\n        vertical-align: middle;\n    }\n\n    .dataframe tbody tr th {\n        vertical-align: top;\n    }\n\n    .dataframe thead tr th {\n        text-align: left;\n    }\n\n    .dataframe thead tr:last-of-type th {\n        text-align: right;\n    }\n</style>\n<table border=\"1\" class=\"dataframe\">\n  <thead>\n    <tr>\n      <th></th>\n      <th colspan=\"10\" halign=\"left\">artist</th>\n      <th>...</th>\n      <th colspan=\"10\" halign=\"left\">year</th>\n    </tr>\n    <tr>\n      <th>format</th>\n      <th colspan=\"4\" halign=\"left\">8-Track Cartridge</th>\n      <th colspan=\"3\" halign=\"left\">Acetate</th>\n      <th colspan=\"3\" halign=\"left\">All Media</th>\n      <th>...</th>\n      <th colspan=\"10\" halign=\"left\">Vinyl</th>\n    </tr>\n    <tr>\n      <th>type</th>\n      <th>Album</th>\n      <th>Amalia</th>\n      <th>Compilation</th>\n      <th>Stereo</th>\n      <th>10\"</th>\n      <th>8\"</th>\n      <th>LP</th>\n      <th>7\"</th>\n      <th>Album</th>\n      <th>Compilation</th>\n      <th>...</th>\n      <th>LP</th>\n      <th>Limited Edition</th>\n      <th>Maxi-Single</th>\n      <th>Mini-Album</th>\n      <th>Picture Disc</th>\n      <th>Promo</th>\n      <th>Reissue</th>\n      <th>Single</th>\n      <th>Special Edition</th>\n      <th>Test Pressing</th>\n    </tr>\n    <tr>\n      <th>real_year</th>\n      <th></th>\n      <th></th>\n      <th></th>\n      <th></th>\n      <th></th>\n      <th></th>\n      <th></th>\n      <th></th>\n      <th></th>\n      <th></th>\n      <th></th>\n      <th></th>\n      <th></th>\n      <th></th>\n      <th></th>\n      <th></th>\n      <th></th>\n      <th></th>\n      <th></th>\n      <th></th>\n      <th></th>\n    </tr>\n  </thead>\n  <tbody>\n    <tr>\n      <th>1910.0</th>\n      <td>0</td>\n      <td>0</td>\n      <td>0</td>\n      <td>0</td>\n      <td>0</td>\n      <td>0</td>\n      <td>0</td>\n      <td>0</td>\n      <td>0</td>\n      <td>0</td>\n      <td>...</td>\n      <td>0</td>\n      <td>0</td>\n      <td>0</td>\n      <td>0</td>\n      <td>0</td>\n      <td>0</td>\n      <td>0</td>\n      <td>0</td>\n      <td>0</td>\n      <td>0</td>\n    </tr>\n    <tr>\n      <th>1916.0</th>\n      <td>0</td>\n      <td>0</td>\n      <td>0</td>\n      <td>0</td>\n      <td>0</td>\n      <td>0</td>\n      <td>0</td>\n      <td>0</td>\n      <td>0</td>\n      <td>0</td>\n      <td>...</td>\n      <td>0</td>\n      <td>0</td>\n      <td>0</td>\n      <td>0</td>\n      <td>0</td>\n      <td>0</td>\n      <td>0</td>\n      <td>0</td>\n      <td>0</td>\n      <td>0</td>\n    </tr>\n    <tr>\n      <th>1920.0</th>\n      <td>0</td>\n      <td>0</td>\n      <td>0</td>\n      <td>0</td>\n      <td>0</td>\n      <td>0</td>\n      <td>0</td>\n      <td>0</td>\n      <td>0</td>\n      <td>0</td>\n      <td>...</td>\n      <td>0</td>\n      <td>0</td>\n      <td>0</td>\n      <td>0</td>\n      <td>0</td>\n      <td>0</td>\n      <td>0</td>\n      <td>0</td>\n      <td>0</td>\n      <td>0</td>\n    </tr>\n    <tr>\n      <th>1923.0</th>\n      <td>0</td>\n      <td>0</td>\n      <td>0</td>\n      <td>0</td>\n      <td>0</td>\n      <td>0</td>\n      <td>0</td>\n      <td>0</td>\n      <td>0</td>\n      <td>0</td>\n      <td>...</td>\n      <td>0</td>\n      <td>0</td>\n      <td>0</td>\n      <td>0</td>\n      <td>0</td>\n      <td>0</td>\n      <td>0</td>\n      <td>0</td>\n      <td>0</td>\n      <td>0</td>\n    </tr>\n    <tr>\n      <th>1926.0</th>\n      <td>0</td>\n      <td>0</td>\n      <td>0</td>\n      <td>0</td>\n      <td>0</td>\n      <td>0</td>\n      <td>0</td>\n      <td>0</td>\n      <td>0</td>\n      <td>0</td>\n      <td>...</td>\n      <td>0</td>\n      <td>0</td>\n      <td>0</td>\n      <td>0</td>\n      <td>0</td>\n      <td>0</td>\n      <td>0</td>\n      <td>0</td>\n      <td>0</td>\n      <td>0</td>\n    </tr>\n    <tr>\n      <th>...</th>\n      <td>...</td>\n      <td>...</td>\n      <td>...</td>\n      <td>...</td>\n      <td>...</td>\n      <td>...</td>\n      <td>...</td>\n      <td>...</td>\n      <td>...</td>\n      <td>...</td>\n      <td>...</td>\n      <td>...</td>\n      <td>...</td>\n      <td>...</td>\n      <td>...</td>\n      <td>...</td>\n      <td>...</td>\n      <td>...</td>\n      <td>...</td>\n      <td>...</td>\n      <td>...</td>\n    </tr>\n    <tr>\n      <th>2016.0</th>\n      <td>0</td>\n      <td>0</td>\n      <td>0</td>\n      <td>0</td>\n      <td>0</td>\n      <td>0</td>\n      <td>0</td>\n      <td>0</td>\n      <td>5</td>\n      <td>0</td>\n      <td>...</td>\n      <td>122</td>\n      <td>0</td>\n      <td>0</td>\n      <td>0</td>\n      <td>0</td>\n      <td>0</td>\n      <td>0</td>\n      <td>0</td>\n      <td>0</td>\n      <td>0</td>\n    </tr>\n    <tr>\n      <th>2017.0</th>\n      <td>0</td>\n      <td>0</td>\n      <td>0</td>\n      <td>0</td>\n      <td>0</td>\n      <td>0</td>\n      <td>0</td>\n      <td>0</td>\n      <td>5</td>\n      <td>0</td>\n      <td>...</td>\n      <td>133</td>\n      <td>0</td>\n      <td>0</td>\n      <td>0</td>\n      <td>0</td>\n      <td>0</td>\n      <td>0</td>\n      <td>0</td>\n      <td>0</td>\n      <td>0</td>\n    </tr>\n    <tr>\n      <th>2018.0</th>\n      <td>0</td>\n      <td>0</td>\n      <td>0</td>\n      <td>0</td>\n      <td>0</td>\n      <td>0</td>\n      <td>0</td>\n      <td>0</td>\n      <td>1</td>\n      <td>0</td>\n      <td>...</td>\n      <td>163</td>\n      <td>0</td>\n      <td>0</td>\n      <td>0</td>\n      <td>0</td>\n      <td>0</td>\n      <td>0</td>\n      <td>0</td>\n      <td>0</td>\n      <td>0</td>\n    </tr>\n    <tr>\n      <th>2019.0</th>\n      <td>0</td>\n      <td>0</td>\n      <td>0</td>\n      <td>0</td>\n      <td>0</td>\n      <td>0</td>\n      <td>0</td>\n      <td>0</td>\n      <td>6</td>\n      <td>0</td>\n      <td>...</td>\n      <td>213</td>\n      <td>0</td>\n      <td>0</td>\n      <td>0</td>\n      <td>0</td>\n      <td>0</td>\n      <td>0</td>\n      <td>0</td>\n      <td>0</td>\n      <td>0</td>\n    </tr>\n    <tr>\n      <th>2020.0</th>\n      <td>0</td>\n      <td>0</td>\n      <td>0</td>\n      <td>0</td>\n      <td>0</td>\n      <td>0</td>\n      <td>0</td>\n      <td>0</td>\n      <td>0</td>\n      <td>0</td>\n      <td>...</td>\n      <td>181</td>\n      <td>0</td>\n      <td>0</td>\n      <td>0</td>\n      <td>0</td>\n      <td>0</td>\n      <td>0</td>\n      <td>0</td>\n      <td>0</td>\n      <td>0</td>\n    </tr>\n  </tbody>\n</table>\n<p>90 rows × 4416 columns</p>\n</div>"
     },
     "metadata": {},
     "execution_count": 84
    }
   ],
   "source": [
    "formats_by_year_complete = pd.pivot_table(test_df, index = \"real_year\", columns=[\"format\", \"type\"], aggfunc=\"count\", fill_value=0)\n"
   ]
  },
  {
   "cell_type": "code",
   "execution_count": 105,
   "metadata": {},
   "outputs": [],
   "source": [
    "#análise granular do tipo de edições por suporte\n",
    "\n",
    "new_test = test_df.groupby([\"format\", \"type\"]).agg({'format':\"count\", 'type':\"count\"})\n",
    "\n",
    "new_text = new_test.drop(index=[\"8-Track Cartridge\",\"Acetate\",\"All Media\",\"Box Set\",\"DAT\",\"DVD\",\"DVDr\",\"Flexi-disc\",\"Floppy Disk\",\"HD DVD\",\"Hybrid\",\"Lathe Cut\",\"Memory Stick\",\"Minidisc\",\"Reel-To-Reel\",\"Shellac\",\"VHS\"], inplace=True)\n",
    "#new_test.to_csv(\"granular_format_types.csv\")"
   ]
  },
  {
   "cell_type": "code",
   "execution_count": 106,
   "metadata": {},
   "outputs": [
    {
     "output_type": "execute_result",
     "data": {
      "text/plain": [
       "0                                  ['Electronic']\n",
       "1                                  ['Electronic']\n",
       "2                                  ['Electronic']\n",
       "3                                  ['Electronic']\n",
       "4                                  ['Electronic']\n",
       "                           ...                   \n",
       "81855                             ['Rock', 'Pop']\n",
       "81856    ['Electronic', 'Hip Hop', 'Funk / Soul']\n",
       "81857                                 ['Hip Hop']\n",
       "81858                               ['Classical']\n",
       "81859     ['Jazz', 'Latin', 'Blues', 'Classical']\n",
       "Name: genre, Length: 81860, dtype: object"
      ]
     },
     "metadata": {},
     "execution_count": 106
    }
   ],
   "source": [
    "test_df[\"genre\"]"
   ]
  },
  {
   "cell_type": "code",
   "execution_count": 107,
   "metadata": {},
   "outputs": [
    {
     "output_type": "execute_result",
     "data": {
      "text/plain": [
       "                                                                       genre  \\\n",
       "genre                                              style                       \n",
       "[\"Children's\", 'Folk, World, & Country', 'Stage... ['Soundtrack']          1   \n",
       "[\"Children's\", 'Folk, World, & Country']           ['Educational']         1   \n",
       "                                                   ['Fado']                2   \n",
       "                                                   ['Folk']                2   \n",
       "                                                   ['Nursery Rhymes']      3   \n",
       "...                                                                      ...   \n",
       "['Stage & Screen']                                 ['Score']              18   \n",
       "                                                   ['Soundtrack']        119   \n",
       "                                                   ['Theme']              21   \n",
       "                                                   ['Vocal']               1   \n",
       "                                                   []                     81   \n",
       "\n",
       "                                                                       style  \n",
       "genre                                              style                      \n",
       "[\"Children's\", 'Folk, World, & Country', 'Stage... ['Soundtrack']          1  \n",
       "[\"Children's\", 'Folk, World, & Country']           ['Educational']         1  \n",
       "                                                   ['Fado']                2  \n",
       "                                                   ['Folk']                2  \n",
       "                                                   ['Nursery Rhymes']      3  \n",
       "...                                                                      ...  \n",
       "['Stage & Screen']                                 ['Score']              18  \n",
       "                                                   ['Soundtrack']        119  \n",
       "                                                   ['Theme']              21  \n",
       "                                                   ['Vocal']               1  \n",
       "                                                   []                     81  \n",
       "\n",
       "[3960 rows x 2 columns]"
      ],
      "text/html": "<div>\n<style scoped>\n    .dataframe tbody tr th:only-of-type {\n        vertical-align: middle;\n    }\n\n    .dataframe tbody tr th {\n        vertical-align: top;\n    }\n\n    .dataframe thead th {\n        text-align: right;\n    }\n</style>\n<table border=\"1\" class=\"dataframe\">\n  <thead>\n    <tr style=\"text-align: right;\">\n      <th></th>\n      <th></th>\n      <th>genre</th>\n      <th>style</th>\n    </tr>\n    <tr>\n      <th>genre</th>\n      <th>style</th>\n      <th></th>\n      <th></th>\n    </tr>\n  </thead>\n  <tbody>\n    <tr>\n      <th>[\"Children's\", 'Folk, World, &amp; Country', 'Stage &amp; Screen']</th>\n      <th>['Soundtrack']</th>\n      <td>1</td>\n      <td>1</td>\n    </tr>\n    <tr>\n      <th rowspan=\"4\" valign=\"top\">[\"Children's\", 'Folk, World, &amp; Country']</th>\n      <th>['Educational']</th>\n      <td>1</td>\n      <td>1</td>\n    </tr>\n    <tr>\n      <th>['Fado']</th>\n      <td>2</td>\n      <td>2</td>\n    </tr>\n    <tr>\n      <th>['Folk']</th>\n      <td>2</td>\n      <td>2</td>\n    </tr>\n    <tr>\n      <th>['Nursery Rhymes']</th>\n      <td>3</td>\n      <td>3</td>\n    </tr>\n    <tr>\n      <th>...</th>\n      <th>...</th>\n      <td>...</td>\n      <td>...</td>\n    </tr>\n    <tr>\n      <th rowspan=\"5\" valign=\"top\">['Stage &amp; Screen']</th>\n      <th>['Score']</th>\n      <td>18</td>\n      <td>18</td>\n    </tr>\n    <tr>\n      <th>['Soundtrack']</th>\n      <td>119</td>\n      <td>119</td>\n    </tr>\n    <tr>\n      <th>['Theme']</th>\n      <td>21</td>\n      <td>21</td>\n    </tr>\n    <tr>\n      <th>['Vocal']</th>\n      <td>1</td>\n      <td>1</td>\n    </tr>\n    <tr>\n      <th>[]</th>\n      <td>81</td>\n      <td>81</td>\n    </tr>\n  </tbody>\n</table>\n<p>3960 rows × 2 columns</p>\n</div>"
     },
     "metadata": {},
     "execution_count": 107
    }
   ],
   "source": [
    "#analyzing genres\n",
    "genre_test = test_df.groupby([\"genre\", \"style\"]).agg({'genre':\"count\", 'style':\"count\"})\n",
    "genre_test\n"
   ]
  }
 ]
}